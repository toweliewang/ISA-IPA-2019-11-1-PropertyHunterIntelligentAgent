{
 "cells": [
  {
   "cell_type": "markdown",
   "metadata": {
    "colab_type": "text",
    "id": "BxQPQ6bAA0_Y"
   },
   "source": [
    "#Colab/Local Setup"
   ]
  },
  {
   "cell_type": "code",
   "execution_count": 0,
   "metadata": {
    "colab": {},
    "colab_type": "code",
    "id": "_cxMWRra-O_O"
   },
   "outputs": [],
   "source": [
    "%reload_ext autoreload\n",
    "%autoreload 2\n",
    "%matplotlib inline"
   ]
  },
  {
   "cell_type": "code",
   "execution_count": 0,
   "metadata": {
    "colab": {
     "base_uri": "https://localhost:8080/",
     "height": 34
    },
    "colab_type": "code",
    "id": "SY9JbmF4-Ogv",
    "outputId": "181de534-62a4-4328-95fd-10cb1668d1f4"
   },
   "outputs": [
    {
     "name": "stdout",
     "output_type": "stream",
     "text": [
      "TensorFlow 2.x selected.\n"
     ]
    }
   ],
   "source": [
    "%tensorflow_version 2.x\n",
    "#local setup\n",
    "#!pip install tensorflow-gpu==2.0.0 (or tensorflow==2.0.0)\n",
    "#!pip install gdown"
   ]
  },
  {
   "cell_type": "markdown",
   "metadata": {
    "colab_type": "text",
    "id": "7isJUq2nA5wF"
   },
   "source": [
    "# Library imports and download data"
   ]
  },
  {
   "cell_type": "code",
   "execution_count": 0,
   "metadata": {
    "colab": {},
    "colab_type": "code",
    "id": "Wey5GCjX96U0"
   },
   "outputs": [],
   "source": [
    "import numpy as np\n",
    "import pandas as pd\n",
    "import matplotlib.pyplot as plt\n",
    "import cv2\n",
    "from pathlib import Path\n",
    "import gdown\n",
    "\n",
    "from tensorflow.keras.models import load_model\n",
    "from tensorflow.keras.preprocessing import image\n",
    "from sklearn.cluster import KMeans\n",
    "import pickle"
   ]
  },
  {
   "cell_type": "markdown",
   "metadata": {},
   "source": [
    "Note: Image Dataset (imgpath and condo_img_all.csv) not provided on Github"
   ]
  },
  {
   "cell_type": "code",
   "execution_count": null,
   "metadata": {
    "colab": {
     "base_uri": "https://localhost:8080/",
     "height": 238
    },
    "colab_type": "code",
    "id": "JczKxg5E-jQx",
    "outputId": "865bc601-d8df-48c0-9f97-4e0e5548e9a0"
   },
   "outputs": [],
   "source": [
    "gdown.download('https://drive.google.com/uc?export=download&id=1SPFSWBMjY0vBXX_0kL2XfoBwBvT0ZmmX', 'model.zip', quiet=False)"
   ]
  },
  {
   "cell_type": "code",
   "execution_count": 0,
   "metadata": {
    "colab": {},
    "colab_type": "code",
    "id": "a6TrYNEj-wg-"
   },
   "outputs": [],
   "source": [
    "!unzip -qq model.zip -d ."
   ]
  },
  {
   "cell_type": "code",
   "execution_count": 0,
   "metadata": {
    "colab": {},
    "colab_type": "code",
    "id": "Lx4Ax6sN96U5"
   },
   "outputs": [],
   "source": [
    "basepath = Path('.')\n",
    "imgpath = basepath/'data'/'image'\n",
    "modelpath = basepath/'models'"
   ]
  },
  {
   "cell_type": "markdown",
   "metadata": {
    "colab_type": "text",
    "id": "zeMQOQPRBAu_"
   },
   "source": [
    "# Load models for prediction"
   ]
  },
  {
   "cell_type": "code",
   "execution_count": 0,
   "metadata": {
    "colab": {},
    "colab_type": "code",
    "id": "0MNxmJg996U8"
   },
   "outputs": [],
   "source": [
    "# load autoencoder\n",
    "encoder = load_model(modelpath/'encoder_v2.h5', compile=False)"
   ]
  },
  {
   "cell_type": "code",
   "execution_count": 0,
   "metadata": {
    "colab": {},
    "colab_type": "code",
    "id": "GdvzR60x96U_"
   },
   "outputs": [],
   "source": [
    "# load cluster model\n",
    "kmeans_file = modelpath/'kmeans_v2.pkl'\n",
    "kmeans_model = pickle.load(open(kmeans_file, 'rb'))"
   ]
  },
  {
   "cell_type": "code",
   "execution_count": 0,
   "metadata": {
    "colab": {},
    "colab_type": "code",
    "id": "8o8RdC5y96VF"
   },
   "outputs": [],
   "source": [
    "def predict_image_cluster(imagepath):\n",
    "    \"\"\"Predict cluster number of image\n",
    "\n",
    "    Parameters:\n",
    "    imagepath: image path using pathlib.Path format\n",
    "\n",
    "    Returns:\n",
    "    int: cluster number, ranges from 0 to 6\n",
    "\n",
    "   \"\"\"\n",
    "    img = image.load_img(imagepath, target_size=(64, 64))\n",
    "    img_data = image.img_to_array(img)\n",
    "    img_data = np.expand_dims(img_data, axis=0)\n",
    "    img_data = img_data.flatten()\n",
    "    img_data2 = []\n",
    "    img_data2.append(img_data)\n",
    "    img_data2 = np.array(img_data2)\n",
    "    img_data2 = img_data2/255\n",
    "    encoded = encoder.predict(img_data2)\n",
    "    prediction = kmeans_model.predict(encoded)\n",
    "    return int(prediction)"
   ]
  },
  {
   "cell_type": "code",
   "execution_count": 0,
   "metadata": {
    "colab": {},
    "colab_type": "code",
    "id": "iVECxOPW96VH"
   },
   "outputs": [],
   "source": [
    "condo_img_all = pd.read_csv(basepath/'condo_img_all.csv', header=None)"
   ]
  },
  {
   "cell_type": "code",
   "execution_count": 0,
   "metadata": {
    "colab": {},
    "colab_type": "code",
    "id": "qCzmozWg96VK"
   },
   "outputs": [],
   "source": [
    "condo_img_all.columns = ['image']"
   ]
  },
  {
   "cell_type": "code",
   "execution_count": 0,
   "metadata": {
    "colab": {},
    "colab_type": "code",
    "id": "b6xC33oF96VM"
   },
   "outputs": [],
   "source": [
    "condo_img_all['cluster'] = condo_img_all['image']\\\n",
    "                            .apply(lambda x: \n",
    "                                   predict_image_cluster(imgpath/x))"
   ]
  },
  {
   "cell_type": "code",
   "execution_count": 0,
   "metadata": {
    "colab": {},
    "colab_type": "code",
    "id": "nPAPSYL_96VP"
   },
   "outputs": [],
   "source": [
    "condo_img_all.head()"
   ]
  },
  {
   "cell_type": "markdown",
   "metadata": {
    "colab_type": "text",
    "id": "qWlA9MHhBD0H"
   },
   "source": [
    "# View predicted pictures"
   ]
  },
  {
   "cell_type": "code",
   "execution_count": 0,
   "metadata": {
    "colab": {},
    "colab_type": "code",
    "id": "6ILOVnmc96VW"
   },
   "outputs": [],
   "source": [
    "def plot_images(nrows, ncols, img_path_series, title):\n",
    "    # settings\n",
    "    nrows, ncols = 3, 3  # array of sub-plots\n",
    "    figsize = [8, 8]     # figure size, inches\n",
    "\n",
    "    # prep (x,y) for extra plotting on selected sub-plots\n",
    "    xs = np.linspace(0, 2*np.pi, 60)  # from 0 to 2pi\n",
    "    ys = np.abs(np.sin(xs))           # absolute of sine\n",
    "\n",
    "    # create figure (fig), and array of axes (ax)\n",
    "    fig, ax = plt.subplots(nrows=nrows, ncols=ncols, figsize=figsize)\n",
    "    fig.suptitle(title)\n",
    "    \n",
    "    # plot simple raster image on each sub-plot\n",
    "    for i, axi in enumerate(ax.flat):\n",
    "        # i runs from 0 to (nrows*ncols-1)\n",
    "        # axi is equivalent with ax[rowid][colid]\n",
    "        tmp = cv2.imread(str(img_path_series[i]))\n",
    "        axi.imshow(cv2.cvtColor(tmp, cv2.COLOR_BGR2RGB))\n",
    "        label = img_path_series[i].name\n",
    "        label = label[:15] + (label[15:] and '..')\n",
    "        axi.set_title(label)\n",
    "\n",
    "    plt.tight_layout(True)\n",
    "    plt.show()"
   ]
  },
  {
   "cell_type": "code",
   "execution_count": 0,
   "metadata": {
    "colab": {},
    "colab_type": "code",
    "id": "NaLpcVef96Va"
   },
   "outputs": [],
   "source": [
    "for i in range(7):\n",
    "    c = condo_img_all[condo_img_all['cluster'] == i].copy()\n",
    "    c['image'] = c['image'].apply(lambda x: imgpath/x)\n",
    "\n",
    "    c_paths = c['image'].unique()\n",
    "    shuffled = c_paths[np.random.permutation(c_paths.shape[0])]\n",
    "    plot_images(3, 3, shuffled, 'cluster ' + str(i))"
   ]
  }
 ],
 "metadata": {
  "accelerator": "GPU",
  "colab": {
   "collapsed_sections": [],
   "name": "CA1 Autoencoder Testing.ipynb",
   "provenance": []
  },
  "kernelspec": {
   "display_name": "Python 3",
   "language": "python",
   "name": "python3"
  },
  "language_info": {
   "codemirror_mode": {
    "name": "ipython",
    "version": 3
   },
   "file_extension": ".py",
   "mimetype": "text/x-python",
   "name": "python",
   "nbconvert_exporter": "python",
   "pygments_lexer": "ipython3",
   "version": "3.7.4"
  }
 },
 "nbformat": 4,
 "nbformat_minor": 1
}
