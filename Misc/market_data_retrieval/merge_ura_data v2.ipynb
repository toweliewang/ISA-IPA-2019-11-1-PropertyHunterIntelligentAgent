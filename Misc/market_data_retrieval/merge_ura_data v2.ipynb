{
 "cells": [
  {
   "cell_type": "code",
   "execution_count": 1,
   "metadata": {
    "colab": {},
    "colab_type": "code",
    "id": "aQFQVZDn7Wj2"
   },
   "outputs": [],
   "source": [
    "%reload_ext autoreload\n",
    "%autoreload 2\n",
    "%matplotlib inline"
   ]
  },
  {
   "cell_type": "code",
   "execution_count": 2,
   "metadata": {
    "colab": {},
    "colab_type": "code",
    "id": "b_wGZ9gI7Wj5"
   },
   "outputs": [],
   "source": [
    "import pandas as pd\n",
    "import matplotlib.pyplot as plt\n",
    "from pathlib import Path"
   ]
  },
  {
   "cell_type": "code",
   "execution_count": 3,
   "metadata": {
    "colab": {},
    "colab_type": "code",
    "id": "YbdDGN_h7Wj9"
   },
   "outputs": [],
   "source": [
    "basepath = Path('.')\n",
    "rawpath = basepath/'raw'\n",
    "datapath = basepath/'data'\n",
    "datapath.mkdir(exist_ok=True)"
   ]
  },
  {
   "cell_type": "markdown",
   "metadata": {},
   "source": [
    "# Merge Raw"
   ]
  },
  {
   "cell_type": "code",
   "execution_count": 4,
   "metadata": {
    "colab": {},
    "colab_type": "code",
    "id": "sLjq37Q_7WkA"
   },
   "outputs": [],
   "source": [
    "csvfiles = rawpath.glob('*.csv')\n",
    "df_list = []"
   ]
  },
  {
   "cell_type": "code",
   "execution_count": 5,
   "metadata": {
    "colab": {},
    "colab_type": "code",
    "id": "AnZ0pNFp7WkD"
   },
   "outputs": [],
   "source": [
    "for csvfile in csvfiles:\n",
    "    tmp = pd.read_csv(csvfile, skiprows=2, na_values='-')\n",
    "    tmp.dropna(thresh=8, inplace=True)\n",
    "    df_list.append(tmp)"
   ]
  },
  {
   "cell_type": "code",
   "execution_count": 6,
   "metadata": {
    "colab": {},
    "colab_type": "code",
    "id": "8kDL7cJD7WkG"
   },
   "outputs": [],
   "source": [
    "df = pd.concat(df_list)"
   ]
  },
  {
   "cell_type": "code",
   "execution_count": 7,
   "metadata": {
    "colab": {},
    "colab_type": "code",
    "id": "YiHyXJMC7WkI"
   },
   "outputs": [],
   "source": [
    "df.drop('S/N',axis=1, inplace=True)"
   ]
  },
  {
   "cell_type": "code",
   "execution_count": 8,
   "metadata": {
    "colab": {},
    "colab_type": "code",
    "id": "nRnoVUXo7WkL",
    "outputId": "100124ac-280b-4f84-9439-cdcfaf5974dd"
   },
   "outputs": [
    {
     "data": {
      "text/html": [
       "<div>\n",
       "<style scoped>\n",
       "    .dataframe tbody tr th:only-of-type {\n",
       "        vertical-align: middle;\n",
       "    }\n",
       "\n",
       "    .dataframe tbody tr th {\n",
       "        vertical-align: top;\n",
       "    }\n",
       "\n",
       "    .dataframe thead th {\n",
       "        text-align: right;\n",
       "    }\n",
       "</style>\n",
       "<table border=\"1\" class=\"dataframe\">\n",
       "  <thead>\n",
       "    <tr style=\"text-align: right;\">\n",
       "      <th></th>\n",
       "      <th>Project Name</th>\n",
       "      <th>Street Name</th>\n",
       "      <th>Type</th>\n",
       "      <th>Postal District</th>\n",
       "      <th>Market Segment</th>\n",
       "      <th>Tenure</th>\n",
       "      <th>Type of Sale</th>\n",
       "      <th>No. of Units</th>\n",
       "      <th>Price ($)</th>\n",
       "      <th>Nett Price ($)</th>\n",
       "      <th>Area (Sqft)</th>\n",
       "      <th>Type of Area</th>\n",
       "      <th>Floor Level</th>\n",
       "      <th>Unit Price ($psf)</th>\n",
       "      <th>Date of Sale</th>\n",
       "    </tr>\n",
       "  </thead>\n",
       "  <tbody>\n",
       "    <tr>\n",
       "      <td>0</td>\n",
       "      <td>1 KING ALBERT PARK</td>\n",
       "      <td>KING ALBERT PARK</td>\n",
       "      <td>Condominium</td>\n",
       "      <td>21</td>\n",
       "      <td>RCR</td>\n",
       "      <td>Freehold</td>\n",
       "      <td>Resale</td>\n",
       "      <td>1.0</td>\n",
       "      <td>1668888.0</td>\n",
       "      <td>NaN</td>\n",
       "      <td>1173.0</td>\n",
       "      <td>Strata</td>\n",
       "      <td>01 to 05</td>\n",
       "      <td>1422.0</td>\n",
       "      <td>Sep-2019</td>\n",
       "    </tr>\n",
       "    <tr>\n",
       "      <td>1</td>\n",
       "      <td># 1 LOFT</td>\n",
       "      <td>LORONG 24 GEYLANG</td>\n",
       "      <td>Apartment</td>\n",
       "      <td>14</td>\n",
       "      <td>RCR</td>\n",
       "      <td>Freehold</td>\n",
       "      <td>Resale</td>\n",
       "      <td>1.0</td>\n",
       "      <td>675000.0</td>\n",
       "      <td>NaN</td>\n",
       "      <td>570.0</td>\n",
       "      <td>Strata</td>\n",
       "      <td>01 to 05</td>\n",
       "      <td>1183.0</td>\n",
       "      <td>Sep-2019</td>\n",
       "    </tr>\n",
       "    <tr>\n",
       "      <td>2</td>\n",
       "      <td>1 KING ALBERT PARK</td>\n",
       "      <td>KING ALBERT PARK</td>\n",
       "      <td>Condominium</td>\n",
       "      <td>21</td>\n",
       "      <td>RCR</td>\n",
       "      <td>Freehold</td>\n",
       "      <td>Resale</td>\n",
       "      <td>1.0</td>\n",
       "      <td>1900000.0</td>\n",
       "      <td>NaN</td>\n",
       "      <td>1281.0</td>\n",
       "      <td>Strata</td>\n",
       "      <td>01 to 05</td>\n",
       "      <td>1483.0</td>\n",
       "      <td>Aug-2019</td>\n",
       "    </tr>\n",
       "    <tr>\n",
       "      <td>3</td>\n",
       "      <td>1 KING ALBERT PARK</td>\n",
       "      <td>KING ALBERT PARK</td>\n",
       "      <td>Condominium</td>\n",
       "      <td>21</td>\n",
       "      <td>RCR</td>\n",
       "      <td>Freehold</td>\n",
       "      <td>Resale</td>\n",
       "      <td>1.0</td>\n",
       "      <td>1880000.0</td>\n",
       "      <td>NaN</td>\n",
       "      <td>1281.0</td>\n",
       "      <td>Strata</td>\n",
       "      <td>01 to 05</td>\n",
       "      <td>1468.0</td>\n",
       "      <td>Jul-2019</td>\n",
       "    </tr>\n",
       "    <tr>\n",
       "      <td>4</td>\n",
       "      <td>1 CANBERRA</td>\n",
       "      <td>CANBERRA DRIVE</td>\n",
       "      <td>Executive Condominium</td>\n",
       "      <td>27</td>\n",
       "      <td>OCR</td>\n",
       "      <td>99 yrs lease commencing from 2012</td>\n",
       "      <td>Resale</td>\n",
       "      <td>1.0</td>\n",
       "      <td>845000.0</td>\n",
       "      <td>NaN</td>\n",
       "      <td>958.0</td>\n",
       "      <td>Strata</td>\n",
       "      <td>01 to 05</td>\n",
       "      <td>882.0</td>\n",
       "      <td>Jul-2019</td>\n",
       "    </tr>\n",
       "  </tbody>\n",
       "</table>\n",
       "</div>"
      ],
      "text/plain": [
       "         Project Name        Street Name                   Type  \\\n",
       "0  1 KING ALBERT PARK   KING ALBERT PARK            Condominium   \n",
       "1            # 1 LOFT  LORONG 24 GEYLANG              Apartment   \n",
       "2  1 KING ALBERT PARK   KING ALBERT PARK            Condominium   \n",
       "3  1 KING ALBERT PARK   KING ALBERT PARK            Condominium   \n",
       "4          1 CANBERRA     CANBERRA DRIVE  Executive Condominium   \n",
       "\n",
       "  Postal District Market Segment                             Tenure  \\\n",
       "0              21            RCR                           Freehold   \n",
       "1              14            RCR                           Freehold   \n",
       "2              21            RCR                           Freehold   \n",
       "3              21            RCR                           Freehold   \n",
       "4              27            OCR  99 yrs lease commencing from 2012   \n",
       "\n",
       "  Type of Sale  No. of Units  Price ($)  Nett Price ($)  Area (Sqft)  \\\n",
       "0       Resale           1.0  1668888.0             NaN       1173.0   \n",
       "1       Resale           1.0   675000.0             NaN        570.0   \n",
       "2       Resale           1.0  1900000.0             NaN       1281.0   \n",
       "3       Resale           1.0  1880000.0             NaN       1281.0   \n",
       "4       Resale           1.0   845000.0             NaN        958.0   \n",
       "\n",
       "  Type of Area Floor Level  Unit Price ($psf) Date of Sale  \n",
       "0       Strata    01 to 05             1422.0     Sep-2019  \n",
       "1       Strata    01 to 05             1183.0     Sep-2019  \n",
       "2       Strata    01 to 05             1483.0     Aug-2019  \n",
       "3       Strata    01 to 05             1468.0     Jul-2019  \n",
       "4       Strata    01 to 05              882.0     Jul-2019  "
      ]
     },
     "execution_count": 8,
     "metadata": {},
     "output_type": "execute_result"
    }
   ],
   "source": [
    "df.head()"
   ]
  },
  {
   "cell_type": "markdown",
   "metadata": {},
   "source": [
    "# Calculate Present Value"
   ]
  },
  {
   "cell_type": "code",
   "execution_count": 9,
   "metadata": {},
   "outputs": [],
   "source": [
    "indices_df = pd.read_csv(datapath/'PropertyPriceIndex.csv')"
   ]
  },
  {
   "cell_type": "code",
   "execution_count": 10,
   "metadata": {},
   "outputs": [],
   "source": [
    "price_index = indices_df['Index Value']\n",
    "price_index.index = pd.MultiIndex.from_arrays(indices_df[['Year', 'Quarter']].values.T, names=['Year', 'Quarter'])"
   ]
  },
  {
   "cell_type": "code",
   "execution_count": 11,
   "metadata": {},
   "outputs": [],
   "source": [
    "def calc_present_value(datestring, price):\n",
    "    tmp = datestring.split('-')\n",
    "    month, year = tmp[0], int(tmp[1])\n",
    "    \n",
    "    if month in ('Jan','Feb','Mar'):\n",
    "        quarter = 1\n",
    "    elif month in ('Apr','May','Jun'):\n",
    "        quarter = 2\n",
    "    elif month in ('Jul','Aug','Sep'):\n",
    "        quarter = 3\n",
    "    else:\n",
    "        quarter = 4\n",
    "    \n",
    "    latest = price_index.index[-1]\n",
    "    \n",
    "    if not (year == latest[0] and quarter == latest[1]):\n",
    "        pv = price/price_index[year, quarter] * price_index[latest[0],latest[1]]\n",
    "        return pv.round(2)\n",
    "    else:\n",
    "        return price"
   ]
  },
  {
   "cell_type": "code",
   "execution_count": 12,
   "metadata": {},
   "outputs": [],
   "source": [
    "df['Present Value'] = df.apply(lambda x: calc_present_value(x['Date of Sale'], x['Price ($)']), axis=1)"
   ]
  },
  {
   "cell_type": "code",
   "execution_count": 13,
   "metadata": {},
   "outputs": [
    {
     "data": {
      "text/html": [
       "<div>\n",
       "<style scoped>\n",
       "    .dataframe tbody tr th:only-of-type {\n",
       "        vertical-align: middle;\n",
       "    }\n",
       "\n",
       "    .dataframe tbody tr th {\n",
       "        vertical-align: top;\n",
       "    }\n",
       "\n",
       "    .dataframe thead th {\n",
       "        text-align: right;\n",
       "    }\n",
       "</style>\n",
       "<table border=\"1\" class=\"dataframe\">\n",
       "  <thead>\n",
       "    <tr style=\"text-align: right;\">\n",
       "      <th></th>\n",
       "      <th>Date of Sale</th>\n",
       "      <th>Price ($)</th>\n",
       "      <th>Present Value</th>\n",
       "    </tr>\n",
       "  </thead>\n",
       "  <tbody>\n",
       "    <tr>\n",
       "      <td>0</td>\n",
       "      <td>Sep-2019</td>\n",
       "      <td>1668888.0</td>\n",
       "      <td>1668888.00</td>\n",
       "    </tr>\n",
       "    <tr>\n",
       "      <td>1</td>\n",
       "      <td>Sep-2019</td>\n",
       "      <td>675000.0</td>\n",
       "      <td>675000.00</td>\n",
       "    </tr>\n",
       "    <tr>\n",
       "      <td>2</td>\n",
       "      <td>Aug-2019</td>\n",
       "      <td>1900000.0</td>\n",
       "      <td>1900000.00</td>\n",
       "    </tr>\n",
       "    <tr>\n",
       "      <td>3</td>\n",
       "      <td>Jul-2019</td>\n",
       "      <td>1880000.0</td>\n",
       "      <td>1880000.00</td>\n",
       "    </tr>\n",
       "    <tr>\n",
       "      <td>4</td>\n",
       "      <td>Jul-2019</td>\n",
       "      <td>845000.0</td>\n",
       "      <td>845000.00</td>\n",
       "    </tr>\n",
       "    <tr>\n",
       "      <td>5</td>\n",
       "      <td>Jul-2019</td>\n",
       "      <td>2180000.0</td>\n",
       "      <td>2180000.00</td>\n",
       "    </tr>\n",
       "    <tr>\n",
       "      <td>6</td>\n",
       "      <td>Jul-2019</td>\n",
       "      <td>2350000.0</td>\n",
       "      <td>2350000.00</td>\n",
       "    </tr>\n",
       "    <tr>\n",
       "      <td>7</td>\n",
       "      <td>Jun-2019</td>\n",
       "      <td>668000.0</td>\n",
       "      <td>674201.59</td>\n",
       "    </tr>\n",
       "    <tr>\n",
       "      <td>8</td>\n",
       "      <td>May-2019</td>\n",
       "      <td>980000.0</td>\n",
       "      <td>989098.14</td>\n",
       "    </tr>\n",
       "    <tr>\n",
       "      <td>9</td>\n",
       "      <td>Apr-2019</td>\n",
       "      <td>960000.0</td>\n",
       "      <td>968912.47</td>\n",
       "    </tr>\n",
       "  </tbody>\n",
       "</table>\n",
       "</div>"
      ],
      "text/plain": [
       "  Date of Sale  Price ($)  Present Value\n",
       "0     Sep-2019  1668888.0     1668888.00\n",
       "1     Sep-2019   675000.0      675000.00\n",
       "2     Aug-2019  1900000.0     1900000.00\n",
       "3     Jul-2019  1880000.0     1880000.00\n",
       "4     Jul-2019   845000.0      845000.00\n",
       "5     Jul-2019  2180000.0     2180000.00\n",
       "6     Jul-2019  2350000.0     2350000.00\n",
       "7     Jun-2019   668000.0      674201.59\n",
       "8     May-2019   980000.0      989098.14\n",
       "9     Apr-2019   960000.0      968912.47"
      ]
     },
     "execution_count": 13,
     "metadata": {},
     "output_type": "execute_result"
    }
   ],
   "source": [
    "df[['Date of Sale','Price ($)', 'Present Value']].head(10)"
   ]
  },
  {
   "cell_type": "markdown",
   "metadata": {},
   "source": [
    "# Output Data"
   ]
  },
  {
   "cell_type": "code",
   "execution_count": 14,
   "metadata": {
    "colab": {},
    "colab_type": "code",
    "id": "FGghlx3d7WkO"
   },
   "outputs": [],
   "source": [
    "df.to_csv(datapath/'merged_data.csv', index=False)"
   ]
  }
 ],
 "metadata": {
  "colab": {
   "name": "merge_ura_data.ipynb",
   "provenance": []
  },
  "kernelspec": {
   "display_name": "Python 3",
   "language": "python",
   "name": "python3"
  },
  "language_info": {
   "codemirror_mode": {
    "name": "ipython",
    "version": 3
   },
   "file_extension": ".py",
   "mimetype": "text/x-python",
   "name": "python",
   "nbconvert_exporter": "python",
   "pygments_lexer": "ipython3",
   "version": "3.7.4"
  }
 },
 "nbformat": 4,
 "nbformat_minor": 1
}
