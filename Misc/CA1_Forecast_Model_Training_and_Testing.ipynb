{
 "cells": [
  {
   "cell_type": "markdown",
   "metadata": {
    "colab_type": "text",
    "id": "UtAmWFNoAi8b"
   },
   "source": [
    "# Colab/Local Setup"
   ]
  },
  {
   "cell_type": "code",
   "execution_count": 0,
   "metadata": {
    "colab": {},
    "colab_type": "code",
    "id": "HmjEXPCvAldf"
   },
   "outputs": [],
   "source": [
    "#Local Setup\n",
    "# use conda: conda install -c conda-forge fbprophet\n",
    "# !pip install gdown"
   ]
  },
  {
   "cell_type": "code",
   "execution_count": 0,
   "metadata": {
    "colab": {},
    "colab_type": "code",
    "id": "MmVZnhS_7tUk"
   },
   "outputs": [],
   "source": [
    "%reload_ext autoreload\n",
    "%autoreload 2\n",
    "%matplotlib inline"
   ]
  },
  {
   "cell_type": "markdown",
   "metadata": {
    "colab_type": "text",
    "id": "MAEk9upUAZmM"
   },
   "source": [
    "# Setup and download data"
   ]
  },
  {
   "cell_type": "code",
   "execution_count": 0,
   "metadata": {
    "colab": {},
    "colab_type": "code",
    "id": "RjR76hWZ8xiP"
   },
   "outputs": [],
   "source": [
    "import pandas as pd\n",
    "import numpy as np\n",
    "import matplotlib.pyplot as plt\n",
    "from pathlib import Path\n",
    "import gdown\n",
    "import re\n",
    "from matplotlib.cbook import boxplot_stats"
   ]
  },
  {
   "cell_type": "code",
   "execution_count": 0,
   "metadata": {
    "colab": {
     "base_uri": "https://localhost:8080/",
     "height": 102
    },
    "colab_type": "code",
    "id": "ESjMHrzRB30f",
    "outputId": "90654a78-99a6-4a5a-899c-c48512522b8b"
   },
   "outputs": [
    {
     "name": "stderr",
     "output_type": "stream",
     "text": [
      "Downloading...\n",
      "From: https://drive.google.com/uc?export=download&id=1TW6f4cn6F990cq6Mjo_uTXckTZW_XBWb\n",
      "To: /content/merged_data.zip\n",
      "100%|██████████| 1.05M/1.05M [00:00<00:00, 80.9MB/s]\n"
     ]
    },
    {
     "data": {
      "text/plain": [
       "'merged_data.zip'"
      ]
     },
     "execution_count": 4,
     "metadata": {
      "tags": []
     },
     "output_type": "execute_result"
    }
   ],
   "source": [
    "gdown.download('https://drive.google.com/uc?export=download&id=1TW6f4cn6F990cq6Mjo_uTXckTZW_XBWb', 'merged_data.zip', quiet=False)"
   ]
  },
  {
   "cell_type": "code",
   "execution_count": 0,
   "metadata": {
    "colab": {},
    "colab_type": "code",
    "id": "jucWz3joB1xA"
   },
   "outputs": [],
   "source": [
    "!unzip -qq merged_data.zip -d data/"
   ]
  },
  {
   "cell_type": "code",
   "execution_count": 0,
   "metadata": {
    "colab": {},
    "colab_type": "code",
    "id": "iiK0sA1H9FbA"
   },
   "outputs": [],
   "source": [
    "basepath = Path('.')"
   ]
  },
  {
   "cell_type": "code",
   "execution_count": 0,
   "metadata": {
    "colab": {},
    "colab_type": "code",
    "id": "-9k9Y1Of9wfa"
   },
   "outputs": [],
   "source": [
    "datapath = basepath/'data'"
   ]
  },
  {
   "cell_type": "code",
   "execution_count": 0,
   "metadata": {
    "colab": {},
    "colab_type": "code",
    "id": "jheP-jSO90tz"
   },
   "outputs": [],
   "source": [
    "data = pd.read_csv(datapath/'merged_data.csv')"
   ]
  },
  {
   "cell_type": "markdown",
   "metadata": {
    "colab_type": "text",
    "id": "UoMpAh6H0xG6"
   },
   "source": [
    "# Explore Data"
   ]
  },
  {
   "cell_type": "code",
   "execution_count": 0,
   "metadata": {
    "colab": {},
    "colab_type": "code",
    "id": "U7xdPNf5pODz"
   },
   "outputs": [],
   "source": [
    "from fbprophet import Prophet"
   ]
  },
  {
   "cell_type": "code",
   "execution_count": 0,
   "metadata": {
    "colab": {},
    "colab_type": "code",
    "id": "c8RL4XEl8dee"
   },
   "outputs": [],
   "source": [
    "data['Date of Sale'] = pd.to_datetime(data['Date of Sale'])"
   ]
  },
  {
   "cell_type": "code",
   "execution_count": 0,
   "metadata": {
    "colab": {
     "base_uri": "https://localhost:8080/",
     "height": 306
    },
    "colab_type": "code",
    "id": "7SXyzNyFAZmY",
    "outputId": "cecdb7c5-a70f-4ea2-e148-ddcea62f3427"
   },
   "outputs": [
    {
     "data": {
      "text/html": [
       "<div>\n",
       "<style scoped>\n",
       "    .dataframe tbody tr th:only-of-type {\n",
       "        vertical-align: middle;\n",
       "    }\n",
       "\n",
       "    .dataframe tbody tr th {\n",
       "        vertical-align: top;\n",
       "    }\n",
       "\n",
       "    .dataframe thead th {\n",
       "        text-align: right;\n",
       "    }\n",
       "</style>\n",
       "<table border=\"1\" class=\"dataframe\">\n",
       "  <thead>\n",
       "    <tr style=\"text-align: right;\">\n",
       "      <th></th>\n",
       "      <th>Project Name</th>\n",
       "      <th>Street Name</th>\n",
       "      <th>Type</th>\n",
       "      <th>Postal District</th>\n",
       "      <th>Market Segment</th>\n",
       "      <th>Tenure</th>\n",
       "      <th>Type of Sale</th>\n",
       "      <th>No. of Units</th>\n",
       "      <th>Price ($)</th>\n",
       "      <th>Nett Price ($)</th>\n",
       "      <th>Area (Sqft)</th>\n",
       "      <th>Type of Area</th>\n",
       "      <th>Floor Level</th>\n",
       "      <th>Unit Price ($psf)</th>\n",
       "      <th>Date of Sale</th>\n",
       "      <th>Present Value</th>\n",
       "    </tr>\n",
       "  </thead>\n",
       "  <tbody>\n",
       "    <tr>\n",
       "      <th>0</th>\n",
       "      <td>1 KING ALBERT PARK</td>\n",
       "      <td>KING ALBERT PARK</td>\n",
       "      <td>Condominium</td>\n",
       "      <td>21</td>\n",
       "      <td>RCR</td>\n",
       "      <td>Freehold</td>\n",
       "      <td>Resale</td>\n",
       "      <td>1.0</td>\n",
       "      <td>1668888.0</td>\n",
       "      <td>NaN</td>\n",
       "      <td>1173.0</td>\n",
       "      <td>Strata</td>\n",
       "      <td>01 to 05</td>\n",
       "      <td>1422.0</td>\n",
       "      <td>2019-09-01</td>\n",
       "      <td>1668888.0</td>\n",
       "    </tr>\n",
       "    <tr>\n",
       "      <th>1</th>\n",
       "      <td># 1 LOFT</td>\n",
       "      <td>LORONG 24 GEYLANG</td>\n",
       "      <td>Apartment</td>\n",
       "      <td>14</td>\n",
       "      <td>RCR</td>\n",
       "      <td>Freehold</td>\n",
       "      <td>Resale</td>\n",
       "      <td>1.0</td>\n",
       "      <td>675000.0</td>\n",
       "      <td>NaN</td>\n",
       "      <td>570.0</td>\n",
       "      <td>Strata</td>\n",
       "      <td>01 to 05</td>\n",
       "      <td>1183.0</td>\n",
       "      <td>2019-09-01</td>\n",
       "      <td>675000.0</td>\n",
       "    </tr>\n",
       "    <tr>\n",
       "      <th>2</th>\n",
       "      <td>1 KING ALBERT PARK</td>\n",
       "      <td>KING ALBERT PARK</td>\n",
       "      <td>Condominium</td>\n",
       "      <td>21</td>\n",
       "      <td>RCR</td>\n",
       "      <td>Freehold</td>\n",
       "      <td>Resale</td>\n",
       "      <td>1.0</td>\n",
       "      <td>1900000.0</td>\n",
       "      <td>NaN</td>\n",
       "      <td>1281.0</td>\n",
       "      <td>Strata</td>\n",
       "      <td>01 to 05</td>\n",
       "      <td>1483.0</td>\n",
       "      <td>2019-08-01</td>\n",
       "      <td>1900000.0</td>\n",
       "    </tr>\n",
       "    <tr>\n",
       "      <th>3</th>\n",
       "      <td>1 KING ALBERT PARK</td>\n",
       "      <td>KING ALBERT PARK</td>\n",
       "      <td>Condominium</td>\n",
       "      <td>21</td>\n",
       "      <td>RCR</td>\n",
       "      <td>Freehold</td>\n",
       "      <td>Resale</td>\n",
       "      <td>1.0</td>\n",
       "      <td>1880000.0</td>\n",
       "      <td>NaN</td>\n",
       "      <td>1281.0</td>\n",
       "      <td>Strata</td>\n",
       "      <td>01 to 05</td>\n",
       "      <td>1468.0</td>\n",
       "      <td>2019-07-01</td>\n",
       "      <td>1880000.0</td>\n",
       "    </tr>\n",
       "    <tr>\n",
       "      <th>4</th>\n",
       "      <td>1 CANBERRA</td>\n",
       "      <td>CANBERRA DRIVE</td>\n",
       "      <td>Executive Condominium</td>\n",
       "      <td>27</td>\n",
       "      <td>OCR</td>\n",
       "      <td>99 yrs lease commencing from 2012</td>\n",
       "      <td>Resale</td>\n",
       "      <td>1.0</td>\n",
       "      <td>845000.0</td>\n",
       "      <td>NaN</td>\n",
       "      <td>958.0</td>\n",
       "      <td>Strata</td>\n",
       "      <td>01 to 05</td>\n",
       "      <td>882.0</td>\n",
       "      <td>2019-07-01</td>\n",
       "      <td>845000.0</td>\n",
       "    </tr>\n",
       "  </tbody>\n",
       "</table>\n",
       "</div>"
      ],
      "text/plain": [
       "         Project Name        Street Name  ... Date of Sale  Present Value\n",
       "0  1 KING ALBERT PARK   KING ALBERT PARK  ...   2019-09-01      1668888.0\n",
       "1            # 1 LOFT  LORONG 24 GEYLANG  ...   2019-09-01       675000.0\n",
       "2  1 KING ALBERT PARK   KING ALBERT PARK  ...   2019-08-01      1900000.0\n",
       "3  1 KING ALBERT PARK   KING ALBERT PARK  ...   2019-07-01      1880000.0\n",
       "4          1 CANBERRA     CANBERRA DRIVE  ...   2019-07-01       845000.0\n",
       "\n",
       "[5 rows x 16 columns]"
      ]
     },
     "execution_count": 11,
     "metadata": {
      "tags": []
     },
     "output_type": "execute_result"
    }
   ],
   "source": [
    "data.head()"
   ]
  },
  {
   "cell_type": "code",
   "execution_count": 0,
   "metadata": {
    "colab": {},
    "colab_type": "code",
    "id": "tRo3sT2fAZma"
   },
   "outputs": [],
   "source": [
    "condo_price = data.loc[data['Type'] == 'Condominium',['Date of Sale', 'Price ($)']]"
   ]
  },
  {
   "cell_type": "code",
   "execution_count": 0,
   "metadata": {
    "colab": {
     "base_uri": "https://localhost:8080/",
     "height": 204
    },
    "colab_type": "code",
    "id": "PRgfsrDPAZmc",
    "outputId": "20ba56bf-b16f-484e-b320-74fdbff55cc7"
   },
   "outputs": [
    {
     "data": {
      "text/html": [
       "<div>\n",
       "<style scoped>\n",
       "    .dataframe tbody tr th:only-of-type {\n",
       "        vertical-align: middle;\n",
       "    }\n",
       "\n",
       "    .dataframe tbody tr th {\n",
       "        vertical-align: top;\n",
       "    }\n",
       "\n",
       "    .dataframe thead th {\n",
       "        text-align: right;\n",
       "    }\n",
       "</style>\n",
       "<table border=\"1\" class=\"dataframe\">\n",
       "  <thead>\n",
       "    <tr style=\"text-align: right;\">\n",
       "      <th></th>\n",
       "      <th>Date of Sale</th>\n",
       "      <th>Price ($)</th>\n",
       "    </tr>\n",
       "  </thead>\n",
       "  <tbody>\n",
       "    <tr>\n",
       "      <th>0</th>\n",
       "      <td>2019-09-01</td>\n",
       "      <td>1668888.0</td>\n",
       "    </tr>\n",
       "    <tr>\n",
       "      <th>2</th>\n",
       "      <td>2019-08-01</td>\n",
       "      <td>1900000.0</td>\n",
       "    </tr>\n",
       "    <tr>\n",
       "      <th>3</th>\n",
       "      <td>2019-07-01</td>\n",
       "      <td>1880000.0</td>\n",
       "    </tr>\n",
       "    <tr>\n",
       "      <th>5</th>\n",
       "      <td>2019-07-01</td>\n",
       "      <td>2180000.0</td>\n",
       "    </tr>\n",
       "    <tr>\n",
       "      <th>12</th>\n",
       "      <td>2019-01-01</td>\n",
       "      <td>1850000.0</td>\n",
       "    </tr>\n",
       "  </tbody>\n",
       "</table>\n",
       "</div>"
      ],
      "text/plain": [
       "   Date of Sale  Price ($)\n",
       "0    2019-09-01  1668888.0\n",
       "2    2019-08-01  1900000.0\n",
       "3    2019-07-01  1880000.0\n",
       "5    2019-07-01  2180000.0\n",
       "12   2019-01-01  1850000.0"
      ]
     },
     "execution_count": 13,
     "metadata": {
      "tags": []
     },
     "output_type": "execute_result"
    }
   ],
   "source": [
    "condo_price.head()"
   ]
  },
  {
   "cell_type": "code",
   "execution_count": 0,
   "metadata": {
    "colab": {
     "base_uri": "https://localhost:8080/",
     "height": 293
    },
    "colab_type": "code",
    "id": "zsOcWm0HAZmd",
    "outputId": "f3f0b92a-13cc-4194-80dd-fe26a49d4cbd"
   },
   "outputs": [
    {
     "data": {
      "text/plain": [
       "<matplotlib.axes._subplots.AxesSubplot at 0x7f7e409cdda0>"
      ]
     },
     "execution_count": 14,
     "metadata": {
      "tags": []
     },
     "output_type": "execute_result"
    },
    {
     "data": {
      "image/png": "[encoded data removed]",
      "text/plain": [
       "<Figure size 432x288 with 1 Axes>"
      ]
     },
     "metadata": {
      "tags": []
     },
     "output_type": "display_data"
    }
   ],
   "source": [
    "condo_price['Price ($)'].plot()"
   ]
  },
  {
   "cell_type": "code",
   "execution_count": 0,
   "metadata": {
    "colab": {
     "base_uri": "https://localhost:8080/",
     "height": 430
    },
    "colab_type": "code",
    "id": "QaeBz7BoAZmf",
    "outputId": "aed348c8-a116-493b-a1de-6cf1bf7e4bce"
   },
   "outputs": [
    {
     "data": {
      "text/plain": [
       "{'boxes': [<matplotlib.lines.Line2D at 0x7f7e40495278>],\n",
       " 'caps': [<matplotlib.lines.Line2D at 0x7f7e40495cf8>,\n",
       "  <matplotlib.lines.Line2D at 0x7f7e404a3080>],\n",
       " 'fliers': [<matplotlib.lines.Line2D at 0x7f7e404a3710>],\n",
       " 'means': [],\n",
       " 'medians': [<matplotlib.lines.Line2D at 0x7f7e404a33c8>],\n",
       " 'whiskers': [<matplotlib.lines.Line2D at 0x7f7e404955f8>,\n",
       "  <matplotlib.lines.Line2D at 0x7f7e404959b0>]}"
      ]
     },
     "execution_count": 15,
     "metadata": {
      "tags": []
     },
     "output_type": "execute_result"
    },
    {
     "data": {
      "image/png": "[encoded data removed]",
      "text/plain": [
       "<Figure size 432x288 with 1 Axes>"
      ]
     },
     "metadata": {
      "tags": []
     },
     "output_type": "display_data"
    }
   ],
   "source": [
    "red_square = dict(markerfacecolor='r', marker='s')\n",
    "fig1, ax1 = plt.subplots()\n",
    "ax1.set_title('Boxplot of Condominium Prices')\n",
    "ax1.boxplot(condo_price['Price ($)'], vert=False, flierprops=red_square)"
   ]
  },
  {
   "cell_type": "code",
   "execution_count": 0,
   "metadata": {
    "colab": {
     "base_uri": "https://localhost:8080/",
     "height": 1000
    },
    "colab_type": "code",
    "id": "LN_rinAmAZmh",
    "outputId": "e5a430f8-2c69-4d4e-939e-7e224ce97148"
   },
   "outputs": [
    {
     "data": {
      "text/plain": [
       "array(['8 SAINT THOMAS', \"D'GROVE VILLAS\", \"D'LEEDON\",\n",
       "       'DAKOTA RESIDENCES', 'AALTO', 'A TREASURE TROVE', 'DORMER PARK',\n",
       "       'DRAYCOTT EIGHT', 'DUCHESS CREST', 'DUCHESS RESIDENCES',\n",
       "       'DUNEARN GARDENS', 'EASTERN LAGOON', 'ELIZABETH HEIGHTS',\n",
       "       'FIFTH AVENUE CONDOMINIUM', 'FLORIDIAN', 'FONTANA HEIGHTS',\n",
       "       'FOUR SEASONS PARK', 'ALLSWORTH PARK',\n",
       "       'FRASER RESIDENCE ORCHARD SINGAPORE', 'FULCRUM', 'GALLOP GREEN',\n",
       "       'GALLOP GABLES', 'GARDENVILLE', 'GLENTREES', 'AMBER PARK',\n",
       "       'AMARYLLIS VILLE', 'GOLDENHILL PARK CONDOMINIUM',\n",
       "       'GOODLUCK GARDEN', 'GRAMERCY PARK', 'GOODWOOD RESIDENCE',\n",
       "       \"GRAND DUCHESS AT ST PATRICK'S\", 'GRANDE VISTA',\n",
       "       'GRANGE RESIDENCES', 'GRANGE INFINITE', 'AMBER RESIDENCES',\n",
       "       'HALLMARK RESIDENCES', 'HAIG COURT', 'HAWAII TOWER',\n",
       "       'HIGHLINE RESIDENCES', 'HILLTOPS', 'HOLLAND RESIDENCES',\n",
       "       'HOLLAND PEAK', 'HOLLANDIA', 'HORIZON TOWERS', 'ARDMORE II',\n",
       "       'ISLAND VIEW', 'JADESCAPE', 'JADE MANSION', 'ARDMORE PARK',\n",
       "       'ARDMORE THREE', 'JERVOIS GARDENS', 'KATONG PARK TOWERS',\n",
       "       'ASPEN HEIGHTS', 'ASCENTIA SKY', 'ASIA GARDENS', \"KING'S MANSION\",\n",
       "       'KISMIS VIEW', 'LA SUISSE', 'LATITUDE', 'LE NOUVEL ARDMORE',\n",
       "       'ASTRID MEADOWS', 'LEIGHWOODS', 'LEEDON RESIDENCE',\n",
       "       'LEONIE GARDENS', 'LINCOLN SUITES', 'LOTUS AT PASIR PANJANG',\n",
       "       'ASTRIDVILLE', 'LUSH ON HOLLAND HILL', 'MADISON RESIDENCES',\n",
       "       'MAPLE WOODS', 'MARINA BAY SUITES', 'MARINA BAY RESIDENCES',\n",
       "       'MARINA COLLECTION', 'MARINE VIEW MANSIONS', 'MARINE BLUE',\n",
       "       'AVALON', 'MARTIN MODERN', 'MARTIN PLACE RESIDENCES',\n",
       "       'MAYFAIR GARDENS', 'MEIER SUITES', 'MEYERHOUSE', 'MEYER PARK',\n",
       "       'AVON PARK', 'MIRAGE TOWER', 'MON JERVOIS', 'MONTVIEW',\n",
       "       'MORIMASA GARDENS', 'MOUNT FABER LODGE', 'NANAK MANSIONS',\n",
       "       'NASSIM PARK RESIDENCES', 'NASSIM JADE', 'NATHAN SUITES',\n",
       "       'NEW FUTURA', 'NEWTON ONE', 'NOUVEL 18', 'BALMORAL 8',\n",
       "       'OCEAN PARK', 'OLA RESIDENCES', 'OLINA LODGE', 'ONE BALMORAL',\n",
       "       'ONE DEVONSHIRE', 'ONE AMBER', 'ONE JERVOIS', 'BALMORAL HILLS',\n",
       "       'BALMORAL GARDENS', 'ORANGE GROVE RESIDENCES', 'ORCHARD BEL AIR',\n",
       "       'ORCHARD SCOTTS', 'OUE TWIN PEAKS', 'PALM SPRING', 'PANDAN VALLEY',\n",
       "       'BALMORAL RESIDENCES', 'PARC STEVENS', 'PARK COLONIAL',\n",
       "       'PARK INFINIA AT WEE NAM', 'PARK WEST', 'PARKSHORE',\n",
       "       'PARKVIEW ECLAT', 'PARKWAY MANSION', 'PARVIS',\n",
       "       'PATERSON RESIDENCE', 'PATERSON SUITES', 'PEAK COURT CONDOMINIUM',\n",
       "       'PEBBLE BAY', 'PEPYS HILL CONDOMINIUM', 'PINEWOOD GARDENS',\n",
       "       'POLLEN & BLEU', 'PRINCIPAL GARDEN', 'QUEENS PEAK',\n",
       "       'REFLECTIONS AT KEPPEL BAY', 'REGENCY PARK', 'BAYSHORE PARK',\n",
       "       'RESIDENCES @ EVELYN', 'RICH MANSIONS', 'RICHMOND PARK',\n",
       "       'RIDGEWOOD', 'BEAUFORT ON NASSIM', 'ROBIN RESIDENCES',\n",
       "       'ROCHELLE AT NEWTON', 'ROYALVILLE', 'SANCTUARY GREEN',\n",
       "       'BEAVERTON COURT', 'SCULPTURA ARDMORE', 'SCOTTS 28',\n",
       "       'SCOTTS HIGHPARK', 'SEASCAPE', 'SENNETT RESIDENCE',\n",
       "       'SEVEN PALMS SENTOSA COVE', 'SHELFORD GREEN', 'SHELFORD VIEW',\n",
       "       'SHELFORD SUITES', 'SILVERSEA', 'BELLE VUE RESIDENCES',\n",
       "       'SIXTH AVENUE VILLE', 'SKY@ELEVEN', 'SKY HABITAT',\n",
       "       'SKYLINE 360 @ SAINT THOMAS WALK', 'SKY GREEN', 'SKY VUE',\n",
       "       'SKYLINE RESIDENCES', 'SOLEIL @ SINARAN', 'SOMMERVILLE PARK',\n",
       "       'SOPHIA HILLS', 'SOPHIA RESIDENCE', 'SPANISH VILLAGE',\n",
       "       'SPRING GROVE', 'ST MARTIN RESIDENCE', 'ST THOMAS SUITES',\n",
       "       'BEVERLY HILL', 'SUI GENERIS', 'SUN ROSIER', 'SUTTON PLACE',\n",
       "       'TAMPINES COURT', 'BISHOPSGATE RESIDENCES', 'TANGLIN PARK',\n",
       "       'TANGLIN HILL CONDOMINIUM', 'TANGLIN VIEW', 'TANGLIN RESIDENCES',\n",
       "       'TERRENE AT BUKIT TIMAH', 'THE ANCHORAGE', 'THE ANSLEY',\n",
       "       'THE ARCADIA', 'THE ARTE', 'THE AZURE', 'THE BALMORAL',\n",
       "       'THE BEAUMONT', 'THE BERTH BY THE COVE', 'THE BELVEDERE',\n",
       "       'THE BOTANIC ON LLOYD', 'THE CLAYMORE',\n",
       "       'THE COAST AT SENTOSA COVE', 'THE COSMOPOLITAN', 'THE CORNWALL',\n",
       "       'THE CREST', 'THE EDGE ON CAIRNHILL', 'THE EQUATORIAL', 'THE ESTA',\n",
       "       'THE GAZANIA', 'THE GLYNDEBOURNE', 'THE GLADES', 'THE GRANGE',\n",
       "       'THE HACIENDA', 'THE HYDE', 'THE IMPERIAL', 'THE HORIZON',\n",
       "       'THE INTERLACE', 'THE INSPIRA', 'THE LADYHILL', 'THE LAURELS',\n",
       "       'THE LEGEND', 'THE LIGHT @ CAIRNHILL', 'THE LINCOLN RESIDENCES',\n",
       "       'THE MAKENA', 'THE MARBELLA', 'THE MARQ ON PATERSON HILL',\n",
       "       'THE MEYERISE', 'THE METZ', 'THE METROPOLITAN CONDOMINIUM',\n",
       "       'THE NASSIM', 'THE OCEANFRONT @ SENTOSA COVE', 'THE ORANGE GROVE',\n",
       "       'THE PARC CONDOMINIUM', 'THE PANORAMA', 'THE PATERSON', 'THE PEAK',\n",
       "       'THE PEAK@BALMEG', 'THE SEA VIEW', 'THE SCOTTS TOWER',\n",
       "       'THE SEAFRONT ON MEYER', 'THE SHELFORD', 'THE SHORE RESIDENCES',\n",
       "       'BOULEVARD VUE', 'THE SIXTH AVENUE RESIDENCES', 'THE SOLITAIRE',\n",
       "       'THE SOVEREIGN', 'THE STERLING', 'THE SUITES AT CENTRAL',\n",
       "       'THE TATE RESIDENCES', 'THE TESSARINA', 'THE TRESOR',\n",
       "       'THE TRILLIUM', 'THE TRIZON', 'THE TRILINQ', 'THE TREVOSE',\n",
       "       'BREEZE BY THE EAST', 'THE WHARF RESIDENCE', 'THE WATERSIDE',\n",
       "       'THOMSON 800', 'BROOKVALE PARK', 'TIARA', 'TOMLINSON HEIGHTS',\n",
       "       'TREVOSE PARK', 'TRIBECA', 'TRILIGHT', 'TULIP GARDEN',\n",
       "       '3 ORCHARD BY-THE-PARK', 'TWENTYONE ANGULLIA PARK', 'TURQUOISE',\n",
       "       'URBANA', 'URBAN SUITES', 'URBAN RESORT CONDOMINIUM',\n",
       "       'VALLEY PARK', 'VERDURE', \"VILLA D'ESTE\", 'VILLA DES FLORES',\n",
       "       'VILLA CHANCERY', 'VILLAGE TOWER', 'VILLE ROYALE',\n",
       "       'VISTA RESIDENCES', 'VIVA', 'VOLARI', 'WATER PLACE',\n",
       "       'WATERBANK AT DAKOTA', 'WATERFALL GARDENS', 'WATTEN HILL',\n",
       "       'WATTEN ESTATE CONDOMINIUM', 'CAIRNHILL CREST', 'YONG AN PARK',\n",
       "       'YGK GARDEN', 'CAMELOT BY-THE-WATER', 'CARIBBEAN AT KEPPEL BAY',\n",
       "       '368 THOMSON', 'CASA CONTENDERE', 'CASA ESPERANZA', 'CASA MEYFORT',\n",
       "       'CASABELLA', 'CENTENNIA SUITES', 'CHANCERY COURT', 'CHANCERY PARK',\n",
       "       'CHANGI GARDEN', 'CHARMING GARDEN', 'CHELSEA GARDENS',\n",
       "       'CITYLIGHTS', 'CITYVISTA RESIDENCES', 'CLEMENTI PARK',\n",
       "       'CLEMENTIWOODS CONDOMINIUM', 'CLUNY PARK RESIDENCE',\n",
       "       'CLIVEDEN AT GRANGE', '8 NAPIER', 'CORALS AT KEPPEL BAY',\n",
       "       'CORALIS', 'COSTA RHU', \"COTE D'AZUR\", 'CUSCADEN RESERVE',\n",
       "       'CUBE 8', 'CUSCADEN RESIDENCES', 'CYAN'], dtype=object)"
      ]
     },
     "execution_count": 16,
     "metadata": {
      "tags": []
     },
     "output_type": "execute_result"
    }
   ],
   "source": [
    "outliers = boxplot_stats(condo_price['Price ($)']).pop(0)['fliers']\n",
    "outlier_condos = data[(data['Type'] == 'Condominium') & (data['Price ($)'].isin(outliers))]\n",
    "outlier_condos['Project Name'].unique()"
   ]
  },
  {
   "cell_type": "code",
   "execution_count": 0,
   "metadata": {
    "colab": {},
    "colab_type": "code",
    "id": "Fhe6nMCw2uls"
   },
   "outputs": [],
   "source": [
    "ts_condo = data.loc[data['Type'] == 'Condominium', \n",
    "                    ['Date of Sale','Price ($)']]\\\n",
    "                    .groupby('Date of Sale').median().reset_index()"
   ]
  },
  {
   "cell_type": "code",
   "execution_count": 0,
   "metadata": {
    "colab": {},
    "colab_type": "code",
    "id": "vxfe2_yv9sW-"
   },
   "outputs": [],
   "source": [
    "ts_condo.columns = ['ds', 'y']"
   ]
  },
  {
   "cell_type": "code",
   "execution_count": 0,
   "metadata": {
    "colab": {
     "base_uri": "https://localhost:8080/",
     "height": 204
    },
    "colab_type": "code",
    "id": "xDCQLsnWSejF",
    "outputId": "f85b7781-f988-48d7-943e-e8a405aa8af0"
   },
   "outputs": [
    {
     "data": {
      "text/html": [
       "<div>\n",
       "<style scoped>\n",
       "    .dataframe tbody tr th:only-of-type {\n",
       "        vertical-align: middle;\n",
       "    }\n",
       "\n",
       "    .dataframe tbody tr th {\n",
       "        vertical-align: top;\n",
       "    }\n",
       "\n",
       "    .dataframe thead th {\n",
       "        text-align: right;\n",
       "    }\n",
       "</style>\n",
       "<table border=\"1\" class=\"dataframe\">\n",
       "  <thead>\n",
       "    <tr style=\"text-align: right;\">\n",
       "      <th></th>\n",
       "      <th>ds</th>\n",
       "      <th>y</th>\n",
       "    </tr>\n",
       "  </thead>\n",
       "  <tbody>\n",
       "    <tr>\n",
       "      <th>0</th>\n",
       "      <td>2016-09-01</td>\n",
       "      <td>1282000.0</td>\n",
       "    </tr>\n",
       "    <tr>\n",
       "      <th>1</th>\n",
       "      <td>2016-10-01</td>\n",
       "      <td>1040000.0</td>\n",
       "    </tr>\n",
       "    <tr>\n",
       "      <th>2</th>\n",
       "      <td>2016-11-01</td>\n",
       "      <td>1082000.0</td>\n",
       "    </tr>\n",
       "    <tr>\n",
       "      <th>3</th>\n",
       "      <td>2016-12-01</td>\n",
       "      <td>1240000.0</td>\n",
       "    </tr>\n",
       "    <tr>\n",
       "      <th>4</th>\n",
       "      <td>2017-01-01</td>\n",
       "      <td>1275000.0</td>\n",
       "    </tr>\n",
       "  </tbody>\n",
       "</table>\n",
       "</div>"
      ],
      "text/plain": [
       "          ds          y\n",
       "0 2016-09-01  1282000.0\n",
       "1 2016-10-01  1040000.0\n",
       "2 2016-11-01  1082000.0\n",
       "3 2016-12-01  1240000.0\n",
       "4 2017-01-01  1275000.0"
      ]
     },
     "execution_count": 19,
     "metadata": {
      "tags": []
     },
     "output_type": "execute_result"
    }
   ],
   "source": [
    "ts_condo.head()"
   ]
  },
  {
   "cell_type": "code",
   "execution_count": 0,
   "metadata": {
    "colab": {
     "base_uri": "https://localhost:8080/",
     "height": 298
    },
    "colab_type": "code",
    "id": "johcrC1wAZmn",
    "outputId": "c205686b-72e4-490e-ed91-f8826215dfbd"
   },
   "outputs": [
    {
     "data": {
      "text/plain": [
       "<matplotlib.axes._subplots.AxesSubplot at 0x7f7e4044b5c0>"
      ]
     },
     "execution_count": 20,
     "metadata": {
      "tags": []
     },
     "output_type": "execute_result"
    },
    {
     "data": {
      "image/png": "[encoded data removed]",
      "text/plain": [
       "<Figure size 432x288 with 1 Axes>"
      ]
     },
     "metadata": {
      "tags": []
     },
     "output_type": "display_data"
    }
   ],
   "source": [
    "ts_condo['y'].plot(title='Median Monthly Condominium Price')"
   ]
  },
  {
   "cell_type": "markdown",
   "metadata": {
    "colab_type": "text",
    "id": "C0pTVp4cAZmq"
   },
   "source": [
    "# Create Median Forecast Model"
   ]
  },
  {
   "cell_type": "code",
   "execution_count": 0,
   "metadata": {
    "colab": {
     "base_uri": "https://localhost:8080/",
     "height": 85
    },
    "colab_type": "code",
    "id": "dmDz9zHJAZmq",
    "outputId": "30fc5098-6c5a-49c7-aa07-7e34417a8ff3"
   },
   "outputs": [
    {
     "name": "stderr",
     "output_type": "stream",
     "text": [
      "INFO:numexpr.utils:NumExpr defaulting to 2 threads.\n",
      "INFO:fbprophet:Disabling weekly seasonality. Run prophet with weekly_seasonality=True to override this.\n",
      "INFO:fbprophet:Disabling daily seasonality. Run prophet with daily_seasonality=True to override this.\n"
     ]
    },
    {
     "data": {
      "text/plain": [
       "<fbprophet.forecaster.Prophet at 0x7f7e40941c18>"
      ]
     },
     "execution_count": 21,
     "metadata": {
      "tags": []
     },
     "output_type": "execute_result"
    }
   ],
   "source": [
    "model = Prophet(seasonality_mode='multiplicative')\n",
    "model.fit(ts_condo)"
   ]
  },
  {
   "cell_type": "code",
   "execution_count": 0,
   "metadata": {
    "colab": {
     "base_uri": "https://localhost:8080/",
     "height": 441
    },
    "colab_type": "code",
    "id": "MLcHW_Q9-Vw1",
    "outputId": "34d75788-7c70-411b-f11a-bd1de70da27e"
   },
   "outputs": [
    {
     "data": {
      "image/png": "[encoded data removed]",
      "text/plain": [
       "<Figure size 720x432 with 1 Axes>"
      ]
     },
     "metadata": {
      "tags": []
     },
     "output_type": "display_data"
    }
   ],
   "source": [
    "future = model.make_future_dataframe(periods=12, freq='M')\n",
    "forecast = model.predict(future)\n",
    "fig = model.plot(forecast)"
   ]
  },
  {
   "cell_type": "code",
   "execution_count": 0,
   "metadata": {
    "colab": {
     "base_uri": "https://localhost:8080/",
     "height": 441
    },
    "colab_type": "code",
    "id": "xhNC8-NVIY6B",
    "outputId": "8e567d31-e981-4f7f-8fc9-90f7b380b729"
   },
   "outputs": [
    {
     "data": {
      "image/png": "[encoded data removed]",
      "text/plain": [
       "<Figure size 648x432 with 2 Axes>"
      ]
     },
     "metadata": {
      "tags": []
     },
     "output_type": "display_data"
    }
   ],
   "source": [
    "comp = model.plot_components(forecast)"
   ]
  },
  {
   "cell_type": "code",
   "execution_count": 0,
   "metadata": {
    "colab": {},
    "colab_type": "code",
    "id": "NUxpvzCOAlct"
   },
   "outputs": [],
   "source": [
    "from fbprophet.diagnostics import cross_validation"
   ]
  },
  {
   "cell_type": "code",
   "execution_count": 0,
   "metadata": {
    "colab": {
     "base_uri": "https://localhost:8080/",
     "height": 1000
    },
    "colab_type": "code",
    "id": "EKXYqKtDAsx8",
    "outputId": "8e76ff8f-8f96-481f-8e4b-d34e24e6aff7"
   },
   "outputs": [
    {
     "name": "stderr",
     "output_type": "stream",
     "text": [
      "/usr/local/lib/python3.6/dist-packages/pandas/util/_decorators.py:208: FutureWarning:\n",
      "\n",
      "M and Y units are deprecated and will be removed in a future version.\n",
      "\n",
      "/usr/local/lib/python3.6/dist-packages/pandas/core/tools/timedeltas.py:134: FutureWarning:\n",
      "\n",
      "M and Y units are deprecated and will be removed in a future version.\n",
      "\n",
      "INFO:fbprophet:Making 9 forecasts with cutoffs between 2018-10-01 04:39:54 and 2019-06-01 16:32:42\n",
      "INFO:fbprophet:n_changepoints greater than number of observations.Using 19.\n",
      "INFO:fbprophet:n_changepoints greater than number of observations.Using 19.\n",
      "INFO:fbprophet:n_changepoints greater than number of observations.Using 21.\n",
      "INFO:fbprophet:n_changepoints greater than number of observations.Using 21.\n",
      "INFO:fbprophet:n_changepoints greater than number of observations.Using 22.\n",
      "INFO:fbprophet:n_changepoints greater than number of observations.Using 23.\n",
      "INFO:fbprophet:n_changepoints greater than number of observations.Using 24.\n"
     ]
    },
    {
     "data": {
      "text/html": [
       "<div>\n",
       "<style scoped>\n",
       "    .dataframe tbody tr th:only-of-type {\n",
       "        vertical-align: middle;\n",
       "    }\n",
       "\n",
       "    .dataframe tbody tr th {\n",
       "        vertical-align: top;\n",
       "    }\n",
       "\n",
       "    .dataframe thead th {\n",
       "        text-align: right;\n",
       "    }\n",
       "</style>\n",
       "<table border=\"1\" class=\"dataframe\">\n",
       "  <thead>\n",
       "    <tr style=\"text-align: right;\">\n",
       "      <th></th>\n",
       "      <th>ds</th>\n",
       "      <th>yhat</th>\n",
       "      <th>yhat_lower</th>\n",
       "      <th>yhat_upper</th>\n",
       "      <th>y</th>\n",
       "      <th>cutoff</th>\n",
       "    </tr>\n",
       "  </thead>\n",
       "  <tbody>\n",
       "    <tr>\n",
       "      <th>0</th>\n",
       "      <td>2018-11-01</td>\n",
       "      <td>1.329458e+06</td>\n",
       "      <td>1.304917e+06</td>\n",
       "      <td>1.355831e+06</td>\n",
       "      <td>1357600.0</td>\n",
       "      <td>2018-10-01 04:39:54</td>\n",
       "    </tr>\n",
       "    <tr>\n",
       "      <th>1</th>\n",
       "      <td>2018-12-01</td>\n",
       "      <td>1.036799e+06</td>\n",
       "      <td>1.012297e+06</td>\n",
       "      <td>1.062302e+06</td>\n",
       "      <td>1363000.0</td>\n",
       "      <td>2018-10-01 04:39:54</td>\n",
       "    </tr>\n",
       "    <tr>\n",
       "      <th>2</th>\n",
       "      <td>2018-11-01</td>\n",
       "      <td>1.329458e+06</td>\n",
       "      <td>1.305867e+06</td>\n",
       "      <td>1.354893e+06</td>\n",
       "      <td>1357600.0</td>\n",
       "      <td>2018-10-31 15:09:00</td>\n",
       "    </tr>\n",
       "    <tr>\n",
       "      <th>3</th>\n",
       "      <td>2018-12-01</td>\n",
       "      <td>1.036799e+06</td>\n",
       "      <td>1.014079e+06</td>\n",
       "      <td>1.060262e+06</td>\n",
       "      <td>1363000.0</td>\n",
       "      <td>2018-10-31 15:09:00</td>\n",
       "    </tr>\n",
       "    <tr>\n",
       "      <th>4</th>\n",
       "      <td>2019-01-01</td>\n",
       "      <td>1.173111e+06</td>\n",
       "      <td>1.146130e+06</td>\n",
       "      <td>1.199987e+06</td>\n",
       "      <td>1300000.0</td>\n",
       "      <td>2018-10-31 15:09:00</td>\n",
       "    </tr>\n",
       "    <tr>\n",
       "      <th>5</th>\n",
       "      <td>2019-01-01</td>\n",
       "      <td>1.262149e+06</td>\n",
       "      <td>1.222321e+06</td>\n",
       "      <td>1.301927e+06</td>\n",
       "      <td>1300000.0</td>\n",
       "      <td>2018-12-01 01:38:06</td>\n",
       "    </tr>\n",
       "    <tr>\n",
       "      <th>6</th>\n",
       "      <td>2019-02-01</td>\n",
       "      <td>1.335411e+06</td>\n",
       "      <td>1.294254e+06</td>\n",
       "      <td>1.377377e+06</td>\n",
       "      <td>1330000.0</td>\n",
       "      <td>2018-12-01 01:38:06</td>\n",
       "    </tr>\n",
       "    <tr>\n",
       "      <th>7</th>\n",
       "      <td>2019-03-01</td>\n",
       "      <td>1.157857e+06</td>\n",
       "      <td>1.118532e+06</td>\n",
       "      <td>1.197838e+06</td>\n",
       "      <td>1169000.0</td>\n",
       "      <td>2018-12-01 01:38:06</td>\n",
       "    </tr>\n",
       "    <tr>\n",
       "      <th>8</th>\n",
       "      <td>2019-01-01</td>\n",
       "      <td>1.262149e+06</td>\n",
       "      <td>1.220911e+06</td>\n",
       "      <td>1.302187e+06</td>\n",
       "      <td>1300000.0</td>\n",
       "      <td>2018-12-31 12:07:12</td>\n",
       "    </tr>\n",
       "    <tr>\n",
       "      <th>9</th>\n",
       "      <td>2019-02-01</td>\n",
       "      <td>1.335411e+06</td>\n",
       "      <td>1.296495e+06</td>\n",
       "      <td>1.373720e+06</td>\n",
       "      <td>1330000.0</td>\n",
       "      <td>2018-12-31 12:07:12</td>\n",
       "    </tr>\n",
       "    <tr>\n",
       "      <th>10</th>\n",
       "      <td>2019-03-01</td>\n",
       "      <td>1.157857e+06</td>\n",
       "      <td>1.119669e+06</td>\n",
       "      <td>1.199655e+06</td>\n",
       "      <td>1169000.0</td>\n",
       "      <td>2018-12-31 12:07:12</td>\n",
       "    </tr>\n",
       "    <tr>\n",
       "      <th>11</th>\n",
       "      <td>2019-04-01</td>\n",
       "      <td>1.290592e+06</td>\n",
       "      <td>1.248976e+06</td>\n",
       "      <td>1.330824e+06</td>\n",
       "      <td>1323000.0</td>\n",
       "      <td>2018-12-31 12:07:12</td>\n",
       "    </tr>\n",
       "    <tr>\n",
       "      <th>12</th>\n",
       "      <td>2019-02-01</td>\n",
       "      <td>1.335212e+06</td>\n",
       "      <td>1.298995e+06</td>\n",
       "      <td>1.375847e+06</td>\n",
       "      <td>1330000.0</td>\n",
       "      <td>2019-01-30 22:36:18</td>\n",
       "    </tr>\n",
       "    <tr>\n",
       "      <th>13</th>\n",
       "      <td>2019-03-01</td>\n",
       "      <td>1.158578e+06</td>\n",
       "      <td>1.119435e+06</td>\n",
       "      <td>1.200194e+06</td>\n",
       "      <td>1169000.0</td>\n",
       "      <td>2019-01-30 22:36:18</td>\n",
       "    </tr>\n",
       "    <tr>\n",
       "      <th>14</th>\n",
       "      <td>2019-04-01</td>\n",
       "      <td>1.295513e+06</td>\n",
       "      <td>1.255672e+06</td>\n",
       "      <td>1.336577e+06</td>\n",
       "      <td>1323000.0</td>\n",
       "      <td>2019-01-30 22:36:18</td>\n",
       "    </tr>\n",
       "    <tr>\n",
       "      <th>15</th>\n",
       "      <td>2019-05-01</td>\n",
       "      <td>1.405604e+06</td>\n",
       "      <td>1.364200e+06</td>\n",
       "      <td>1.442157e+06</td>\n",
       "      <td>1500000.0</td>\n",
       "      <td>2019-01-30 22:36:18</td>\n",
       "    </tr>\n",
       "    <tr>\n",
       "      <th>16</th>\n",
       "      <td>2019-04-01</td>\n",
       "      <td>1.293766e+06</td>\n",
       "      <td>1.255374e+06</td>\n",
       "      <td>1.329540e+06</td>\n",
       "      <td>1323000.0</td>\n",
       "      <td>2019-03-02 09:05:24</td>\n",
       "    </tr>\n",
       "    <tr>\n",
       "      <th>17</th>\n",
       "      <td>2019-05-01</td>\n",
       "      <td>1.404582e+06</td>\n",
       "      <td>1.366699e+06</td>\n",
       "      <td>1.441043e+06</td>\n",
       "      <td>1500000.0</td>\n",
       "      <td>2019-03-02 09:05:24</td>\n",
       "    </tr>\n",
       "    <tr>\n",
       "      <th>18</th>\n",
       "      <td>2019-06-01</td>\n",
       "      <td>1.386477e+06</td>\n",
       "      <td>1.349835e+06</td>\n",
       "      <td>1.425752e+06</td>\n",
       "      <td>1310000.0</td>\n",
       "      <td>2019-03-02 09:05:24</td>\n",
       "    </tr>\n",
       "    <tr>\n",
       "      <th>19</th>\n",
       "      <td>2019-05-01</td>\n",
       "      <td>1.400549e+06</td>\n",
       "      <td>1.366441e+06</td>\n",
       "      <td>1.438076e+06</td>\n",
       "      <td>1500000.0</td>\n",
       "      <td>2019-04-01 19:34:30</td>\n",
       "    </tr>\n",
       "    <tr>\n",
       "      <th>20</th>\n",
       "      <td>2019-06-01</td>\n",
       "      <td>1.385401e+06</td>\n",
       "      <td>1.349438e+06</td>\n",
       "      <td>1.424019e+06</td>\n",
       "      <td>1310000.0</td>\n",
       "      <td>2019-04-01 19:34:30</td>\n",
       "    </tr>\n",
       "    <tr>\n",
       "      <th>21</th>\n",
       "      <td>2019-07-01</td>\n",
       "      <td>1.245714e+06</td>\n",
       "      <td>1.209143e+06</td>\n",
       "      <td>1.284960e+06</td>\n",
       "      <td>1320700.0</td>\n",
       "      <td>2019-04-01 19:34:30</td>\n",
       "    </tr>\n",
       "    <tr>\n",
       "      <th>22</th>\n",
       "      <td>2019-06-01</td>\n",
       "      <td>1.373186e+06</td>\n",
       "      <td>1.331650e+06</td>\n",
       "      <td>1.412193e+06</td>\n",
       "      <td>1310000.0</td>\n",
       "      <td>2019-05-02 06:03:36</td>\n",
       "    </tr>\n",
       "    <tr>\n",
       "      <th>23</th>\n",
       "      <td>2019-07-01</td>\n",
       "      <td>1.240886e+06</td>\n",
       "      <td>1.202448e+06</td>\n",
       "      <td>1.281201e+06</td>\n",
       "      <td>1320700.0</td>\n",
       "      <td>2019-05-02 06:03:36</td>\n",
       "    </tr>\n",
       "    <tr>\n",
       "      <th>24</th>\n",
       "      <td>2019-08-01</td>\n",
       "      <td>1.166531e+06</td>\n",
       "      <td>1.126397e+06</td>\n",
       "      <td>1.204224e+06</td>\n",
       "      <td>1363500.0</td>\n",
       "      <td>2019-05-02 06:03:36</td>\n",
       "    </tr>\n",
       "    <tr>\n",
       "      <th>25</th>\n",
       "      <td>2019-07-01</td>\n",
       "      <td>1.255870e+06</td>\n",
       "      <td>1.215801e+06</td>\n",
       "      <td>1.294202e+06</td>\n",
       "      <td>1320700.0</td>\n",
       "      <td>2019-06-01 16:32:42</td>\n",
       "    </tr>\n",
       "    <tr>\n",
       "      <th>26</th>\n",
       "      <td>2019-08-01</td>\n",
       "      <td>1.169436e+06</td>\n",
       "      <td>1.129330e+06</td>\n",
       "      <td>1.208938e+06</td>\n",
       "      <td>1363500.0</td>\n",
       "      <td>2019-06-01 16:32:42</td>\n",
       "    </tr>\n",
       "    <tr>\n",
       "      <th>27</th>\n",
       "      <td>2019-09-01</td>\n",
       "      <td>1.206676e+06</td>\n",
       "      <td>1.170215e+06</td>\n",
       "      <td>1.245963e+06</td>\n",
       "      <td>1380000.0</td>\n",
       "      <td>2019-06-01 16:32:42</td>\n",
       "    </tr>\n",
       "  </tbody>\n",
       "</table>\n",
       "</div>"
      ],
      "text/plain": [
       "           ds          yhat  ...          y              cutoff\n",
       "0  2018-11-01  1.329458e+06  ...  1357600.0 2018-10-01 04:39:54\n",
       "1  2018-12-01  1.036799e+06  ...  1363000.0 2018-10-01 04:39:54\n",
       "2  2018-11-01  1.329458e+06  ...  1357600.0 2018-10-31 15:09:00\n",
       "3  2018-12-01  1.036799e+06  ...  1363000.0 2018-10-31 15:09:00\n",
       "4  2019-01-01  1.173111e+06  ...  1300000.0 2018-10-31 15:09:00\n",
       "5  2019-01-01  1.262149e+06  ...  1300000.0 2018-12-01 01:38:06\n",
       "6  2019-02-01  1.335411e+06  ...  1330000.0 2018-12-01 01:38:06\n",
       "7  2019-03-01  1.157857e+06  ...  1169000.0 2018-12-01 01:38:06\n",
       "8  2019-01-01  1.262149e+06  ...  1300000.0 2018-12-31 12:07:12\n",
       "9  2019-02-01  1.335411e+06  ...  1330000.0 2018-12-31 12:07:12\n",
       "10 2019-03-01  1.157857e+06  ...  1169000.0 2018-12-31 12:07:12\n",
       "11 2019-04-01  1.290592e+06  ...  1323000.0 2018-12-31 12:07:12\n",
       "12 2019-02-01  1.335212e+06  ...  1330000.0 2019-01-30 22:36:18\n",
       "13 2019-03-01  1.158578e+06  ...  1169000.0 2019-01-30 22:36:18\n",
       "14 2019-04-01  1.295513e+06  ...  1323000.0 2019-01-30 22:36:18\n",
       "15 2019-05-01  1.405604e+06  ...  1500000.0 2019-01-30 22:36:18\n",
       "16 2019-04-01  1.293766e+06  ...  1323000.0 2019-03-02 09:05:24\n",
       "17 2019-05-01  1.404582e+06  ...  1500000.0 2019-03-02 09:05:24\n",
       "18 2019-06-01  1.386477e+06  ...  1310000.0 2019-03-02 09:05:24\n",
       "19 2019-05-01  1.400549e+06  ...  1500000.0 2019-04-01 19:34:30\n",
       "20 2019-06-01  1.385401e+06  ...  1310000.0 2019-04-01 19:34:30\n",
       "21 2019-07-01  1.245714e+06  ...  1320700.0 2019-04-01 19:34:30\n",
       "22 2019-06-01  1.373186e+06  ...  1310000.0 2019-05-02 06:03:36\n",
       "23 2019-07-01  1.240886e+06  ...  1320700.0 2019-05-02 06:03:36\n",
       "24 2019-08-01  1.166531e+06  ...  1363500.0 2019-05-02 06:03:36\n",
       "25 2019-07-01  1.255870e+06  ...  1320700.0 2019-06-01 16:32:42\n",
       "26 2019-08-01  1.169436e+06  ...  1363500.0 2019-06-01 16:32:42\n",
       "27 2019-09-01  1.206676e+06  ...  1380000.0 2019-06-01 16:32:42\n",
       "\n",
       "[28 rows x 6 columns]"
      ]
     },
     "execution_count": 25,
     "metadata": {
      "tags": []
     },
     "output_type": "execute_result"
    }
   ],
   "source": [
    "model_cv = cross_validation(model = model, \n",
    "                            initial = pd.to_timedelta(24,unit=\"M\"),\n",
    "                            period = pd.to_timedelta(1,unit=\"M\"),\n",
    "                            horizon = pd.to_timedelta(3,unit=\"M\"))\n",
    "model_cv"
   ]
  },
  {
   "cell_type": "code",
   "execution_count": 0,
   "metadata": {
    "colab": {
     "base_uri": "https://localhost:8080/",
     "height": 886
    },
    "colab_type": "code",
    "id": "7YJLpCVfCXnS",
    "outputId": "5f6a5487-998b-455e-9166-823d54e05885"
   },
   "outputs": [
    {
     "data": {
      "text/html": [
       "<div>\n",
       "<style scoped>\n",
       "    .dataframe tbody tr th:only-of-type {\n",
       "        vertical-align: middle;\n",
       "    }\n",
       "\n",
       "    .dataframe tbody tr th {\n",
       "        vertical-align: top;\n",
       "    }\n",
       "\n",
       "    .dataframe thead th {\n",
       "        text-align: right;\n",
       "    }\n",
       "</style>\n",
       "<table border=\"1\" class=\"dataframe\">\n",
       "  <thead>\n",
       "    <tr style=\"text-align: right;\">\n",
       "      <th></th>\n",
       "      <th>horizon</th>\n",
       "      <th>mse</th>\n",
       "      <th>rmse</th>\n",
       "      <th>mae</th>\n",
       "      <th>mape</th>\n",
       "      <th>coverage</th>\n",
       "    </tr>\n",
       "  </thead>\n",
       "  <tbody>\n",
       "    <tr>\n",
       "      <th>0</th>\n",
       "      <td>0 days 11:52:48</td>\n",
       "      <td>1.112342e+09</td>\n",
       "      <td>33351.785409</td>\n",
       "      <td>32996.538191</td>\n",
       "      <td>0.024923</td>\n",
       "      <td>0.5</td>\n",
       "    </tr>\n",
       "    <tr>\n",
       "      <th>1</th>\n",
       "      <td>1 days 01:23:42</td>\n",
       "      <td>7.299466e+08</td>\n",
       "      <td>27017.524713</td>\n",
       "      <td>21531.572485</td>\n",
       "      <td>0.016518</td>\n",
       "      <td>1.0</td>\n",
       "    </tr>\n",
       "    <tr>\n",
       "      <th>2</th>\n",
       "      <td>29 days 01:23:42</td>\n",
       "      <td>6.788959e+07</td>\n",
       "      <td>8239.514037</td>\n",
       "      <td>7816.834390</td>\n",
       "      <td>0.006417</td>\n",
       "      <td>1.0</td>\n",
       "    </tr>\n",
       "    <tr>\n",
       "      <th>3</th>\n",
       "      <td>29 days 04:25:30</td>\n",
       "      <td>4.999579e+09</td>\n",
       "      <td>70707.702393</td>\n",
       "      <td>54936.580859</td>\n",
       "      <td>0.037608</td>\n",
       "      <td>0.5</td>\n",
       "    </tr>\n",
       "    <tr>\n",
       "      <th>4</th>\n",
       "      <td>29 days 07:27:18</td>\n",
       "      <td>7.046719e+09</td>\n",
       "      <td>83944.735202</td>\n",
       "      <td>82140.473124</td>\n",
       "      <td>0.057694</td>\n",
       "      <td>0.0</td>\n",
       "    </tr>\n",
       "    <tr>\n",
       "      <th>5</th>\n",
       "      <td>29 days 14:54:36</td>\n",
       "      <td>2.528761e+09</td>\n",
       "      <td>50286.788282</td>\n",
       "      <td>47031.867583</td>\n",
       "      <td>0.035592</td>\n",
       "      <td>0.5</td>\n",
       "    </tr>\n",
       "    <tr>\n",
       "      <th>6</th>\n",
       "      <td>29 days 17:56:24</td>\n",
       "      <td>2.423529e+09</td>\n",
       "      <td>49229.356035</td>\n",
       "      <td>46209.845076</td>\n",
       "      <td>0.035165</td>\n",
       "      <td>0.5</td>\n",
       "    </tr>\n",
       "    <tr>\n",
       "      <th>7</th>\n",
       "      <td>30 days 08:51:00</td>\n",
       "      <td>5.519977e+10</td>\n",
       "      <td>234946.310192</td>\n",
       "      <td>194693.360148</td>\n",
       "      <td>0.143780</td>\n",
       "      <td>0.0</td>\n",
       "    </tr>\n",
       "    <tr>\n",
       "      <th>8</th>\n",
       "      <td>30 days 19:20:06</td>\n",
       "      <td>5.359953e+10</td>\n",
       "      <td>231515.718912</td>\n",
       "      <td>177171.328139</td>\n",
       "      <td>0.130027</td>\n",
       "      <td>0.0</td>\n",
       "    </tr>\n",
       "    <tr>\n",
       "      <th>9</th>\n",
       "      <td>30 days 22:21:54</td>\n",
       "      <td>1.112342e+09</td>\n",
       "      <td>33351.785409</td>\n",
       "      <td>32996.538191</td>\n",
       "      <td>0.024923</td>\n",
       "      <td>0.5</td>\n",
       "    </tr>\n",
       "    <tr>\n",
       "      <th>10</th>\n",
       "      <td>31 days 11:52:48</td>\n",
       "      <td>7.310046e+08</td>\n",
       "      <td>27037.096783</td>\n",
       "      <td>21631.167737</td>\n",
       "      <td>0.016592</td>\n",
       "      <td>1.0</td>\n",
       "    </tr>\n",
       "    <tr>\n",
       "      <th>11</th>\n",
       "      <td>59 days 11:52:48</td>\n",
       "      <td>7.672742e+07</td>\n",
       "      <td>8759.418702</td>\n",
       "      <td>8277.185772</td>\n",
       "      <td>0.006800</td>\n",
       "      <td>1.0</td>\n",
       "    </tr>\n",
       "    <tr>\n",
       "      <th>12</th>\n",
       "      <td>59 days 14:54:36</td>\n",
       "      <td>4.614411e+09</td>\n",
       "      <td>67929.453500</td>\n",
       "      <td>53280.867141</td>\n",
       "      <td>0.036572</td>\n",
       "      <td>0.5</td>\n",
       "    </tr>\n",
       "    <tr>\n",
       "      <th>13</th>\n",
       "      <td>59 days 17:56:24</td>\n",
       "      <td>7.737435e+09</td>\n",
       "      <td>87962.693052</td>\n",
       "      <td>87615.979057</td>\n",
       "      <td>0.062023</td>\n",
       "      <td>0.0</td>\n",
       "    </tr>\n",
       "    <tr>\n",
       "      <th>14</th>\n",
       "      <td>60 days 01:23:42</td>\n",
       "      <td>3.562869e+09</td>\n",
       "      <td>59689.775109</td>\n",
       "      <td>53650.138914</td>\n",
       "      <td>0.040604</td>\n",
       "      <td>0.5</td>\n",
       "    </tr>\n",
       "    <tr>\n",
       "      <th>15</th>\n",
       "      <td>60 days 04:25:30</td>\n",
       "      <td>3.220437e+09</td>\n",
       "      <td>56748.893213</td>\n",
       "      <td>51443.958505</td>\n",
       "      <td>0.039167</td>\n",
       "      <td>0.5</td>\n",
       "    </tr>\n",
       "    <tr>\n",
       "      <th>16</th>\n",
       "      <td>60 days 07:27:18</td>\n",
       "      <td>2.167303e+10</td>\n",
       "      <td>147217.621120</td>\n",
       "      <td>134732.486043</td>\n",
       "      <td>0.099943</td>\n",
       "      <td>0.0</td>\n",
       "    </tr>\n",
       "    <tr>\n",
       "      <th>17</th>\n",
       "      <td>60 days 19:20:06</td>\n",
       "      <td>7.203390e+10</td>\n",
       "      <td>268391.317527</td>\n",
       "      <td>260132.326448</td>\n",
       "      <td>0.190827</td>\n",
       "      <td>0.0</td>\n",
       "    </tr>\n",
       "    <tr>\n",
       "      <th>18</th>\n",
       "      <td>61 days 08:51:00</td>\n",
       "      <td>6.125401e+10</td>\n",
       "      <td>247495.466156</td>\n",
       "      <td>226545.184150</td>\n",
       "      <td>0.168466</td>\n",
       "      <td>0.0</td>\n",
       "    </tr>\n",
       "    <tr>\n",
       "      <th>19</th>\n",
       "      <td>61 days 22:21:54</td>\n",
       "      <td>8.065092e+09</td>\n",
       "      <td>89805.859819</td>\n",
       "      <td>66150.123403</td>\n",
       "      <td>0.050838</td>\n",
       "      <td>0.5</td>\n",
       "    </tr>\n",
       "    <tr>\n",
       "      <th>20</th>\n",
       "      <td>89 days 22:21:54</td>\n",
       "      <td>7.672742e+07</td>\n",
       "      <td>8759.418702</td>\n",
       "      <td>8277.185772</td>\n",
       "      <td>0.006800</td>\n",
       "      <td>1.0</td>\n",
       "    </tr>\n",
       "    <tr>\n",
       "      <th>21</th>\n",
       "      <td>90 days 01:23:42</td>\n",
       "      <td>4.517357e+09</td>\n",
       "      <td>67211.289732</td>\n",
       "      <td>52769.560104</td>\n",
       "      <td>0.036231</td>\n",
       "      <td>0.5</td>\n",
       "    </tr>\n",
       "    <tr>\n",
       "      <th>22</th>\n",
       "      <td>90 days 04:25:30</td>\n",
       "      <td>7.266688e+09</td>\n",
       "      <td>85244.871177</td>\n",
       "      <td>84690.616160</td>\n",
       "      <td>0.059854</td>\n",
       "      <td>0.0</td>\n",
       "    </tr>\n",
       "    <tr>\n",
       "      <th>23</th>\n",
       "      <td>90 days 11:52:48</td>\n",
       "      <td>3.336544e+09</td>\n",
       "      <td>57762.823869</td>\n",
       "      <td>53696.569363</td>\n",
       "      <td>0.040636</td>\n",
       "      <td>0.5</td>\n",
       "    </tr>\n",
       "    <tr>\n",
       "      <th>24</th>\n",
       "      <td>90 days 14:54:36</td>\n",
       "      <td>3.449473e+09</td>\n",
       "      <td>58732.215222</td>\n",
       "      <td>54442.162420</td>\n",
       "      <td>0.041437</td>\n",
       "      <td>0.5</td>\n",
       "    </tr>\n",
       "    <tr>\n",
       "      <th>25</th>\n",
       "      <td>90 days 17:56:24</td>\n",
       "      <td>2.232276e+10</td>\n",
       "      <td>149408.039678</td>\n",
       "      <td>136722.938323</td>\n",
       "      <td>0.101419</td>\n",
       "      <td>0.0</td>\n",
       "    </tr>\n",
       "    <tr>\n",
       "      <th>26</th>\n",
       "      <td>91 days 07:27:18</td>\n",
       "      <td>3.441900e+10</td>\n",
       "      <td>185523.573201</td>\n",
       "      <td>185146.487855</td>\n",
       "      <td>0.135028</td>\n",
       "      <td>0.0</td>\n",
       "    </tr>\n",
       "  </tbody>\n",
       "</table>\n",
       "</div>"
      ],
      "text/plain": [
       "            horizon           mse  ...      mape  coverage\n",
       "0   0 days 11:52:48  1.112342e+09  ...  0.024923       0.5\n",
       "1   1 days 01:23:42  7.299466e+08  ...  0.016518       1.0\n",
       "2  29 days 01:23:42  6.788959e+07  ...  0.006417       1.0\n",
       "3  29 days 04:25:30  4.999579e+09  ...  0.037608       0.5\n",
       "4  29 days 07:27:18  7.046719e+09  ...  0.057694       0.0\n",
       "5  29 days 14:54:36  2.528761e+09  ...  0.035592       0.5\n",
       "6  29 days 17:56:24  2.423529e+09  ...  0.035165       0.5\n",
       "7  30 days 08:51:00  5.519977e+10  ...  0.143780       0.0\n",
       "8  30 days 19:20:06  5.359953e+10  ...  0.130027       0.0\n",
       "9  30 days 22:21:54  1.112342e+09  ...  0.024923       0.5\n",
       "10 31 days 11:52:48  7.310046e+08  ...  0.016592       1.0\n",
       "11 59 days 11:52:48  7.672742e+07  ...  0.006800       1.0\n",
       "12 59 days 14:54:36  4.614411e+09  ...  0.036572       0.5\n",
       "13 59 days 17:56:24  7.737435e+09  ...  0.062023       0.0\n",
       "14 60 days 01:23:42  3.562869e+09  ...  0.040604       0.5\n",
       "15 60 days 04:25:30  3.220437e+09  ...  0.039167       0.5\n",
       "16 60 days 07:27:18  2.167303e+10  ...  0.099943       0.0\n",
       "17 60 days 19:20:06  7.203390e+10  ...  0.190827       0.0\n",
       "18 61 days 08:51:00  6.125401e+10  ...  0.168466       0.0\n",
       "19 61 days 22:21:54  8.065092e+09  ...  0.050838       0.5\n",
       "20 89 days 22:21:54  7.672742e+07  ...  0.006800       1.0\n",
       "21 90 days 01:23:42  4.517357e+09  ...  0.036231       0.5\n",
       "22 90 days 04:25:30  7.266688e+09  ...  0.059854       0.0\n",
       "23 90 days 11:52:48  3.336544e+09  ...  0.040636       0.5\n",
       "24 90 days 14:54:36  3.449473e+09  ...  0.041437       0.5\n",
       "25 90 days 17:56:24  2.232276e+10  ...  0.101419       0.0\n",
       "26 91 days 07:27:18  3.441900e+10  ...  0.135028       0.0\n",
       "\n",
       "[27 rows x 6 columns]"
      ]
     },
     "execution_count": 26,
     "metadata": {
      "tags": []
     },
     "output_type": "execute_result"
    }
   ],
   "source": [
    "from fbprophet.diagnostics import performance_metrics\n",
    "model_perf = performance_metrics(model_cv)\n",
    "model_perf"
   ]
  },
  {
   "cell_type": "code",
   "execution_count": 0,
   "metadata": {
    "colab": {
     "base_uri": "https://localhost:8080/",
     "height": 391
    },
    "colab_type": "code",
    "id": "vktktitFCtSn",
    "outputId": "c78265c4-b961-4a00-898e-ca98fc603060"
   },
   "outputs": [
    {
     "data": {
      "image/png": "[encoded data removed]",
      "text/plain": [
       "<Figure size 720x432 with 1 Axes>"
      ]
     },
     "metadata": {
      "tags": []
     },
     "output_type": "display_data"
    }
   ],
   "source": [
    "from fbprophet.plot import plot_cross_validation_metric\n",
    "fig = plot_cross_validation_metric(model_cv, metric='mape')"
   ]
  },
  {
   "cell_type": "code",
   "execution_count": 0,
   "metadata": {
    "colab": {},
    "colab_type": "code",
    "id": "D_rrr9sPWfBb"
   },
   "outputs": [],
   "source": [
    "def mean_absolute_percentage_error(y_true, y_pred): \n",
    "    y_true, y_pred = np.array(y_true), np.array(y_pred)\n",
    "    return np.mean(np.abs((y_true - y_pred) / y_true)) * 100"
   ]
  },
  {
   "cell_type": "code",
   "execution_count": 0,
   "metadata": {
    "colab": {
     "base_uri": "https://localhost:8080/",
     "height": 34
    },
    "colab_type": "code",
    "id": "DlxHHZ40AZm-",
    "outputId": "6879c72d-f2e3-478d-9cd1-fcf2684afecb"
   },
   "outputs": [
    {
     "data": {
      "text/plain": [
       "6.139457347876292"
      ]
     },
     "execution_count": 29,
     "metadata": {
      "tags": []
     },
     "output_type": "execute_result"
    }
   ],
   "source": [
    "mean_absolute_percentage_error(model_cv.y, model_cv.yhat) # whole"
   ]
  },
  {
   "cell_type": "code",
   "execution_count": 0,
   "metadata": {
    "colab": {},
    "colab_type": "code",
    "id": "Ag4V6RVbAZnB"
   },
   "outputs": [],
   "source": [
    "quarter_forecast= forecast.loc[37:39,['ds', 'trend', 'yhat', 'multiplicative_terms']]"
   ]
  },
  {
   "cell_type": "code",
   "execution_count": 0,
   "metadata": {
    "colab": {},
    "colab_type": "code",
    "id": "5lLJc1cAAZnD"
   },
   "outputs": [],
   "source": [
    "quarter_forecast['weights'] = [0.4, 0.3, 0.3]"
   ]
  },
  {
   "cell_type": "code",
   "execution_count": 0,
   "metadata": {
    "colab": {
     "base_uri": "https://localhost:8080/",
     "height": 142
    },
    "colab_type": "code",
    "id": "IQQmkN0QAZnF",
    "outputId": "cd9e377a-6766-4400-ab82-6833a6b88730"
   },
   "outputs": [
    {
     "data": {
      "text/html": [
       "<div>\n",
       "<style scoped>\n",
       "    .dataframe tbody tr th:only-of-type {\n",
       "        vertical-align: middle;\n",
       "    }\n",
       "\n",
       "    .dataframe tbody tr th {\n",
       "        vertical-align: top;\n",
       "    }\n",
       "\n",
       "    .dataframe thead th {\n",
       "        text-align: right;\n",
       "    }\n",
       "</style>\n",
       "<table border=\"1\" class=\"dataframe\">\n",
       "  <thead>\n",
       "    <tr style=\"text-align: right;\">\n",
       "      <th></th>\n",
       "      <th>ds</th>\n",
       "      <th>trend</th>\n",
       "      <th>yhat</th>\n",
       "      <th>multiplicative_terms</th>\n",
       "      <th>weights</th>\n",
       "    </tr>\n",
       "  </thead>\n",
       "  <tbody>\n",
       "    <tr>\n",
       "      <th>37</th>\n",
       "      <td>2019-09-30</td>\n",
       "      <td>1.351841e+06</td>\n",
       "      <td>1.787746e+06</td>\n",
       "      <td>0.322453</td>\n",
       "      <td>0.4</td>\n",
       "    </tr>\n",
       "    <tr>\n",
       "      <th>38</th>\n",
       "      <td>2019-10-31</td>\n",
       "      <td>1.354307e+06</td>\n",
       "      <td>1.615774e+06</td>\n",
       "      <td>0.193063</td>\n",
       "      <td>0.3</td>\n",
       "    </tr>\n",
       "    <tr>\n",
       "      <th>39</th>\n",
       "      <td>2019-11-30</td>\n",
       "      <td>1.356694e+06</td>\n",
       "      <td>1.214364e+06</td>\n",
       "      <td>-0.104909</td>\n",
       "      <td>0.3</td>\n",
       "    </tr>\n",
       "  </tbody>\n",
       "</table>\n",
       "</div>"
      ],
      "text/plain": [
       "           ds         trend          yhat  multiplicative_terms  weights\n",
       "37 2019-09-30  1.351841e+06  1.787746e+06              0.322453      0.4\n",
       "38 2019-10-31  1.354307e+06  1.615774e+06              0.193063      0.3\n",
       "39 2019-11-30  1.356694e+06  1.214364e+06             -0.104909      0.3"
      ]
     },
     "execution_count": 32,
     "metadata": {
      "tags": []
     },
     "output_type": "execute_result"
    }
   ],
   "source": [
    "quarter_forecast"
   ]
  },
  {
   "cell_type": "code",
   "execution_count": 0,
   "metadata": {
    "colab": {},
    "colab_type": "code",
    "id": "sYKDtv6IAZnH"
   },
   "outputs": [],
   "source": [
    "weighted_multiplier = 1 + sum(quarter_forecast['multiplicative_terms'] * \n",
    "                              quarter_forecast['weights'])"
   ]
  },
  {
   "cell_type": "code",
   "execution_count": 0,
   "metadata": {
    "colab": {
     "base_uri": "https://localhost:8080/",
     "height": 80
    },
    "colab_type": "code",
    "id": "L8U1IciGAZnJ",
    "outputId": "09b9f1a1-4212-4e2b-e782-23c5247f4cba"
   },
   "outputs": [
    {
     "data": {
      "text/html": [
       "<div>\n",
       "<style scoped>\n",
       "    .dataframe tbody tr th:only-of-type {\n",
       "        vertical-align: middle;\n",
       "    }\n",
       "\n",
       "    .dataframe tbody tr th {\n",
       "        vertical-align: top;\n",
       "    }\n",
       "\n",
       "    .dataframe thead th {\n",
       "        text-align: right;\n",
       "    }\n",
       "</style>\n",
       "<table border=\"1\" class=\"dataframe\">\n",
       "  <thead>\n",
       "    <tr style=\"text-align: right;\">\n",
       "      <th></th>\n",
       "      <th>Multiplier</th>\n",
       "    </tr>\n",
       "  </thead>\n",
       "  <tbody>\n",
       "    <tr>\n",
       "      <th>0</th>\n",
       "      <td>1.155427</td>\n",
       "    </tr>\n",
       "  </tbody>\n",
       "</table>\n",
       "</div>"
      ],
      "text/plain": [
       "   Multiplier\n",
       "0    1.155427"
      ]
     },
     "execution_count": 34,
     "metadata": {
      "tags": []
     },
     "output_type": "execute_result"
    }
   ],
   "source": [
    "d = {'Multiplier':[weighted_multiplier]}\n",
    "mul_df = pd.DataFrame.from_dict(d)\n",
    "mul_df"
   ]
  },
  {
   "cell_type": "code",
   "execution_count": 0,
   "metadata": {
    "colab": {},
    "colab_type": "code",
    "id": "S1biDkAoAZnN"
   },
   "outputs": [],
   "source": [
    "mul_df.to_csv('future_price_multiplier.csv',index=False)"
   ]
  }
 ],
 "metadata": {
  "accelerator": "GPU",
  "colab": {
   "collapsed_sections": [
    "MTRVh9e5sQYT",
    "3NDdFWcqjk4v",
    "u4DsWfTtXsT_",
    "GIfSH4NyXx1M",
    "zIlf-AmKbUNu",
    "oGl0Y645glma",
    "qiQKzByUhtRm",
    "PBwRpbiHim3V",
    "2bV5ZUD9jePg",
    "IFovZxlItx53"
   ],
   "name": "CA1 Forecast Model Training and Testing.ipynb",
   "provenance": []
  },
  "kernelspec": {
   "display_name": "Python 3",
   "language": "python",
   "name": "python3"
  },
  "language_info": {
   "codemirror_mode": {
    "name": "ipython",
    "version": 3
   },
   "file_extension": ".py",
   "mimetype": "text/x-python",
   "name": "python",
   "nbconvert_exporter": "python",
   "pygments_lexer": "ipython3",
   "version": "3.7.4"
  }
 },
 "nbformat": 4,
 "nbformat_minor": 1
}
